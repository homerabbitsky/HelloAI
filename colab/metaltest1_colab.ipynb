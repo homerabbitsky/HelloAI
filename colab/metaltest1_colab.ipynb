{
  "nbformat": 4,
  "nbformat_minor": 0,
  "metadata": {
    "colab": {
      "provenance": [],
      "include_colab_link": true
    },
    "kernelspec": {
      "name": "python3",
      "display_name": "Python 3"
    },
    "language_info": {
      "name": "python"
    }
  },
  "cells": [
    {
      "cell_type": "markdown",
      "metadata": {
        "id": "view-in-github",
        "colab_type": "text"
      },
      "source": [
        "<a href=\"https://colab.research.google.com/github/homerabbitsky/HelloAI/blob/main/colab/metaltest1_colab.ipynb\" target=\"_parent\"><img src=\"https://colab.research.google.com/assets/colab-badge.svg\" alt=\"Open In Colab\"/></a>"
      ]
    },
    {
      "cell_type": "code",
      "execution_count": null,
      "metadata": {
        "id": "CzeLeqEaNj8v",
        "colab": {
          "base_uri": "https://localhost:8080/"
        },
        "outputId": "5a8ba8ab-6802-4509-dd4c-2ce8829dad03"
      },
      "outputs": [
        {
          "output_type": "stream",
          "name": "stdout",
          "text": [
            "Downloading http://fashion-mnist.s3-website.eu-central-1.amazonaws.com/train-images-idx3-ubyte.gz\n",
            "Downloading http://fashion-mnist.s3-website.eu-central-1.amazonaws.com/train-images-idx3-ubyte.gz to data/FashionMNIST/raw/train-images-idx3-ubyte.gz\n"
          ]
        },
        {
          "output_type": "stream",
          "name": "stderr",
          "text": [
            "100%|██████████| 26421880/26421880 [00:01<00:00, 15574456.05it/s]\n"
          ]
        },
        {
          "output_type": "stream",
          "name": "stdout",
          "text": [
            "Extracting data/FashionMNIST/raw/train-images-idx3-ubyte.gz to data/FashionMNIST/raw\n",
            "\n",
            "Downloading http://fashion-mnist.s3-website.eu-central-1.amazonaws.com/train-labels-idx1-ubyte.gz\n",
            "Downloading http://fashion-mnist.s3-website.eu-central-1.amazonaws.com/train-labels-idx1-ubyte.gz to data/FashionMNIST/raw/train-labels-idx1-ubyte.gz\n"
          ]
        },
        {
          "output_type": "stream",
          "name": "stderr",
          "text": [
            "100%|██████████| 29515/29515 [00:00<00:00, 269541.20it/s]\n"
          ]
        },
        {
          "output_type": "stream",
          "name": "stdout",
          "text": [
            "Extracting data/FashionMNIST/raw/train-labels-idx1-ubyte.gz to data/FashionMNIST/raw\n",
            "\n",
            "Downloading http://fashion-mnist.s3-website.eu-central-1.amazonaws.com/t10k-images-idx3-ubyte.gz\n",
            "Downloading http://fashion-mnist.s3-website.eu-central-1.amazonaws.com/t10k-images-idx3-ubyte.gz to data/FashionMNIST/raw/t10k-images-idx3-ubyte.gz\n"
          ]
        },
        {
          "output_type": "stream",
          "name": "stderr",
          "text": [
            "100%|██████████| 4422102/4422102 [00:00<00:00, 5011285.64it/s]\n"
          ]
        },
        {
          "output_type": "stream",
          "name": "stdout",
          "text": [
            "Extracting data/FashionMNIST/raw/t10k-images-idx3-ubyte.gz to data/FashionMNIST/raw\n",
            "\n",
            "Downloading http://fashion-mnist.s3-website.eu-central-1.amazonaws.com/t10k-labels-idx1-ubyte.gz\n",
            "Downloading http://fashion-mnist.s3-website.eu-central-1.amazonaws.com/t10k-labels-idx1-ubyte.gz to data/FashionMNIST/raw/t10k-labels-idx1-ubyte.gz\n"
          ]
        },
        {
          "output_type": "stream",
          "name": "stderr",
          "text": [
            "100%|██████████| 5148/5148 [00:00<00:00, 5757940.53it/s]\n"
          ]
        },
        {
          "output_type": "stream",
          "name": "stdout",
          "text": [
            "Extracting data/FashionMNIST/raw/t10k-labels-idx1-ubyte.gz to data/FashionMNIST/raw\n",
            "\n",
            "Shape of X [N, C, H, W]: torch.Size([64, 1, 28, 28])\n",
            "Shape of y: torch.Size([64]) torch.int64\n",
            "starting timer for training using CPU...\n",
            "Epoch 1\n",
            "-------------------------------\n",
            "loss: 2.304981  [   64/60000]\n",
            "loss: 2.301168  [ 6464/60000]\n",
            "loss: 2.273483  [12864/60000]\n",
            "loss: 2.267399  [19264/60000]\n",
            "loss: 2.253937  [25664/60000]\n",
            "loss: 2.223087  [32064/60000]\n",
            "loss: 2.231452  [38464/60000]\n",
            "loss: 2.195418  [44864/60000]\n",
            "loss: 2.192530  [51264/60000]\n",
            "loss: 2.165145  [57664/60000]\n",
            "Epoch 2\n",
            "-------------------------------\n",
            "loss: 2.162084  [   64/60000]\n",
            "loss: 2.161415  [ 6464/60000]\n",
            "loss: 2.094172  [12864/60000]\n",
            "loss: 2.107175  [19264/60000]\n",
            "loss: 2.075735  [25664/60000]\n",
            "loss: 2.009720  [32064/60000]\n",
            "loss: 2.035372  [38464/60000]\n",
            "loss: 1.955479  [44864/60000]\n",
            "loss: 1.952274  [51264/60000]\n",
            "loss: 1.895298  [57664/60000]\n",
            "Epoch 3\n",
            "-------------------------------\n",
            "loss: 1.911665  [   64/60000]\n",
            "loss: 1.890895  [ 6464/60000]\n",
            "loss: 1.760051  [12864/60000]\n",
            "loss: 1.798015  [19264/60000]\n",
            "loss: 1.720867  [25664/60000]\n",
            "loss: 1.658303  [32064/60000]\n",
            "loss: 1.678407  [38464/60000]\n",
            "loss: 1.574682  [44864/60000]\n",
            "loss: 1.591130  [51264/60000]\n",
            "loss: 1.505098  [57664/60000]\n",
            "Epoch 4\n",
            "-------------------------------\n",
            "loss: 1.572594  [   64/60000]\n",
            "loss: 1.547546  [ 6464/60000]\n",
            "loss: 1.387725  [12864/60000]\n",
            "loss: 1.461579  [19264/60000]\n",
            "loss: 1.368297  [25664/60000]\n",
            "loss: 1.350367  [32064/60000]\n",
            "loss: 1.368932  [38464/60000]\n",
            "loss: 1.286908  [44864/60000]\n",
            "loss: 1.317575  [51264/60000]\n",
            "loss: 1.233822  [57664/60000]\n",
            "Epoch 5\n",
            "-------------------------------\n",
            "loss: 1.322840  [   64/60000]\n",
            "loss: 1.314609  [ 6464/60000]\n",
            "loss: 1.143651  [12864/60000]\n",
            "loss: 1.247483  [19264/60000]\n",
            "loss: 1.140590  [25664/60000]\n",
            "loss: 1.155454  [32064/60000]\n",
            "loss: 1.182710  [38464/60000]\n",
            "loss: 1.113342  [44864/60000]\n",
            "loss: 1.146825  [51264/60000]\n",
            "loss: 1.077804  [57664/60000]\n",
            "Epoch 6\n",
            "-------------------------------\n",
            "loss: 1.157075  [   64/60000]\n",
            "loss: 1.169660  [ 6464/60000]\n",
            "loss: 0.983754  [12864/60000]\n",
            "loss: 1.113442  [19264/60000]\n",
            "loss: 1.000123  [25664/60000]\n",
            "loss: 1.024296  [32064/60000]\n",
            "loss: 1.066416  [38464/60000]\n",
            "loss: 1.003225  [44864/60000]\n",
            "loss: 1.034401  [51264/60000]\n",
            "loss: 0.979627  [57664/60000]\n",
            "Epoch 7\n",
            "-------------------------------\n",
            "loss: 1.041413  [   64/60000]\n"
          ]
        }
      ],
      "source": [
        "import torch\n",
        "import time\n",
        "from torch import nn\n",
        "from torch.utils.data import DataLoader\n",
        "from torchvision import datasets\n",
        "from torchvision.transforms import ToTensor\n",
        "\n",
        "# Define linear model we will use below\n",
        "class NeuralNetwork(nn.Module):\n",
        "    def __init__(self):\n",
        "        super().__init__()\n",
        "        self.flatten = nn.Flatten()\n",
        "        self.linear_relu_stack = nn.Sequential(\n",
        "            nn.Linear(28*28, 512),\n",
        "            nn.ReLU(),\n",
        "            nn.Linear(512, 512),\n",
        "            nn.ReLU(),\n",
        "            nn.Linear(512, 10)\n",
        "        )\n",
        "\n",
        "    def forward(self, x):\n",
        "        x = self.flatten(x)\n",
        "        logits = self.linear_relu_stack(x)\n",
        "        return logits\n",
        "\n",
        "def train(dataloader, model, loss_fn, optimizer, device):\n",
        "    size = len(dataloader.dataset)\n",
        "    model.train()\n",
        "    for batch, (X, y) in enumerate(dataloader):\n",
        "        X, y = X.to(device), y.to(device)\n",
        "\n",
        "        # Compute prediction error\n",
        "        pred = model(X)\n",
        "        loss = loss_fn(pred, y)\n",
        "\n",
        "        # Backpropagation\n",
        "        optimizer.zero_grad()\n",
        "        loss.backward()\n",
        "        optimizer.step()\n",
        "\n",
        "        if batch % 100 == 0:\n",
        "            loss, current = loss.item(), (batch + 1) * len(X)\n",
        "            print(f\"loss: {loss:>7f}  [{current:>5d}/{size:>5d}]\")\n",
        "\n",
        "def test(dataloader, model, loss_fn, device):\n",
        "    size = len(dataloader.dataset)\n",
        "    num_batches = len(dataloader)\n",
        "    model.eval()\n",
        "    test_loss, correct = 0, 0\n",
        "    with torch.no_grad():\n",
        "        for X, y in dataloader:\n",
        "            X, y = X.to(device), y.to(device)\n",
        "            pred = model(X)\n",
        "            test_loss += loss_fn(pred, y).item()\n",
        "            correct += (pred.argmax(1) == y).type(torch.float).sum().item()\n",
        "    test_loss /= num_batches\n",
        "    correct /= size\n",
        "    print(f\"Test Error: \\n Accuracy: {(100*correct):>0.1f}%, Avg loss: {test_loss:>8f} \\n\")\n",
        "\n",
        "# modified from https://pytorch.org/tutorials/beginner/basics/quickstart_tutorial.html\n",
        "# get our competing devices ready ... go ahead and init all three here, but ONLY USE ONE during each test\n",
        "# scroll down below and replace the references to gpu_, tpu_, cpu with whichever device you are testing\n",
        "# make sure you replace ALL of them\n",
        "gpu_device = torch.device(\"cuda\")\n",
        "tpu_device = torch.device(\"xla\")\n",
        "cpu_device = torch.device(\"cpu\")\n",
        "\n",
        "# Download training data from open datasets.\n",
        "training_data = datasets.FashionMNIST(\n",
        "    root=\"data\",\n",
        "    train=True,\n",
        "    download=True,\n",
        "    transform=ToTensor(),\n",
        ")\n",
        "\n",
        "# Download test data from open datasets.\n",
        "test_data = datasets.FashionMNIST(\n",
        "    root=\"data\",\n",
        "    train=False,\n",
        "    download=True,\n",
        "    transform=ToTensor(),\n",
        ")\n",
        "\n",
        "# first hyperparam\n",
        "batch_size = 64\n",
        "\n",
        "# Create data loaders.\n",
        "train_dataloader = DataLoader(training_data, batch_size=batch_size)\n",
        "test_dataloader = DataLoader(test_data, batch_size=batch_size)\n",
        "\n",
        "# Show some sample data\n",
        "for X, y in test_dataloader:\n",
        "    print(f\"Shape of X [N, C, H, W]: {X.shape}\")\n",
        "    print(f\"Shape of y: {y.shape} {y.dtype}\")\n",
        "    break\n",
        "\n",
        "\n",
        "# sample code for working with m1\n",
        "  # Create a Tensor directly on the mps device\n",
        "  #x = torch.ones(5, device=mps_device)\n",
        "  # Or\n",
        "  #x = torch.ones(5, device=\"mps\")\n",
        "  # Any operation happens on the GPU\n",
        "  #y = x * 2\n",
        "\n",
        "  # Move your model to mps just like any other device\n",
        "model = NeuralNetwork().to(cpu_device)\n",
        "loss_fn = nn.CrossEntropyLoss()\n",
        "optimizer = torch.optim.SGD(model.parameters(), lr=1e-3)\n",
        "print(\"starting timer for training using CPU...\")\n",
        "start = time.time()\n",
        "epochs = 30 \n",
        "for t in range(epochs):\n",
        "    print(f\"Epoch {t+1}\\n-------------------------------\")\n",
        "    train(train_dataloader, model, loss_fn, optimizer, cpu_device)\n",
        "print(f\"completed training in ... {time.time()-start}s\")\n",
        "\n",
        "print(\"starting timer for testing using CPU...\")\n",
        "start = time.time()\n",
        "test(test_dataloader, model, loss_fn, cpu_device)\n",
        "print(f\"completed testing in ... {time.time()-start}s\")"
      ]
    }
  ]
}