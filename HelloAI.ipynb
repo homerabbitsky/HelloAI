{
  "nbformat": 4,
  "nbformat_minor": 0,
  "metadata": {
    "colab": {
      "provenance": [],
      "authorship_tag": "ABX9TyMxGiotaJQTVVG5Hz0wOo4r",
      "include_colab_link": true
    },
    "kernelspec": {
      "name": "python3",
      "display_name": "Python 3"
    },
    "language_info": {
      "name": "python"
    }
  },
  "cells": [
    {
      "cell_type": "markdown",
      "metadata": {
        "id": "view-in-github",
        "colab_type": "text"
      },
      "source": [
        "<a href=\"https://colab.research.google.com/github/homerabbitsky/HelloAI/blob/main/HelloAI.ipynb\" target=\"_parent\"><img src=\"https://colab.research.google.com/assets/colab-badge.svg\" alt=\"Open In Colab\"/></a>"
      ]
    },
    {
      "cell_type": "markdown",
      "source": [
        "# Hello Python and AI\n",
        "### this uses a markdown language\n",
        "\n"
      ],
      "metadata": {
        "id": "QAZcg1h36SMP"
      }
    },
    {
      "cell_type": "code",
      "execution_count": null,
      "metadata": {
        "colab": {
          "base_uri": "https://localhost:8080/"
        },
        "id": "1CCnqhFQ5-TA",
        "outputId": "5255c575-cde7-4db7-c6cf-2bce4ed87175"
      },
      "outputs": [
        {
          "output_type": "stream",
          "name": "stdout",
          "text": [
            "Hello Python and AI\n",
            "1 + 2 = 3\n",
            "Hello: 3\n",
            "Hello: True\n",
            "Hello: 3.141519\n",
            "Hello:  a string\n",
            "Hello: [0, 1, 2, 3]\n"
          ]
        }
      ],
      "source": [
        "print(\"Hello Python and AI\")\n",
        "\n",
        "a = 1\n",
        "b = 2\n",
        "\n",
        "print(f\"{a} + {b} = {a+b}\")\n",
        "\n",
        "def sayHello(msg):\n",
        "  print(f\"Hello: {msg}\")\n",
        "\n",
        "sayHello(3)\n",
        "sayHello(True)\n",
        "sayHello(3.141519)\n",
        "sayHello(\" a string\")\n",
        "sayHello([0, 1, 2, 3])"
      ]
    },
    {
      "cell_type": "code",
      "source": [
        "sayHello(\"still alive!\")"
      ],
      "metadata": {
        "colab": {
          "base_uri": "https://localhost:8080/"
        },
        "id": "AXr80shx-hIg",
        "outputId": "99d1095d-a679-4fef-e557-05dc82233ce8"
      },
      "execution_count": null,
      "outputs": [
        {
          "output_type": "stream",
          "name": "stdout",
          "text": [
            "Hello: still alive!\n"
          ]
        }
      ]
    },
    {
      "cell_type": "code",
      "source": [
        "import torch\n",
        "import numpy\n",
        "import matplotlib.pyplot as plt\n",
        "\n",
        "x = torch.ones(3,2)\n",
        "print(x)"
      ],
      "metadata": {
        "colab": {
          "base_uri": "https://localhost:8080/"
        },
        "id": "ZtybJudR_QcU",
        "outputId": "e5fcc3dc-ee7e-4159-87a4-7f73f48d6b30"
      },
      "execution_count": null,
      "outputs": [
        {
          "output_type": "stream",
          "name": "stdout",
          "text": [
            "tensor([[1., 1.],\n",
            "        [1., 1.],\n",
            "        [1., 1.]])\n"
          ]
        }
      ]
    },
    {
      "cell_type": "code",
      "source": [
        "import numpy as np\n"
      ],
      "metadata": {
        "id": "K_dV8DCNRDnk"
      },
      "execution_count": null,
      "outputs": []
    },
    {
      "cell_type": "code",
      "source": [
        "numpy.array()\n",
        "\n",
        "numpy.array(object, dtype = None, copy = True, order = None, subok = False, ndmin = 0)\n",
        "\n",
        "import numpy as np\n",
        "#creating 1-dimensional arrays\n",
        "#creating python list\n",
        "list_1 = [3,2,7]\n",
        "arr_1 = np.array(list_1,dtype=np.int16)\n",
        "print(arr_1)\n",
        "#or \n",
        "arr_1=np.array([3,2,7])\n",
        "print(arr_1)\n",
        "output:\n",
        "[3 2 7]\n",
        "#creating array of complex number\n",
        "arr_complex = np.array([1, 2, 3], dtype = complex)\n",
        "print(arr_complex)\n",
        "output:\n",
        "[1.+0.j 2.+0.j 3.+0.j]"
      ],
      "metadata": {
        "colab": {
          "base_uri": "https://localhost:8080/",
          "height": 166
        },
        "id": "SDbkoixRSQcN",
        "outputId": "8338fb55-34c4-4878-e6e7-d935b69d8663"
      },
      "execution_count": null,
      "outputs": [
        {
          "output_type": "error",
          "ename": "TypeError",
          "evalue": "ignored",
          "traceback": [
            "\u001b[0;31m---------------------------------------------------------------------------\u001b[0m",
            "\u001b[0;31mTypeError\u001b[0m                                 Traceback (most recent call last)",
            "\u001b[0;32m<ipython-input-5-c99b76c0f0a4>\u001b[0m in \u001b[0;36m<module>\u001b[0;34m\u001b[0m\n\u001b[0;32m----> 1\u001b[0;31m \u001b[0mnumpy\u001b[0m\u001b[0;34m.\u001b[0m\u001b[0marray\u001b[0m\u001b[0;34m(\u001b[0m\u001b[0;34m)\u001b[0m\u001b[0;34m\u001b[0m\u001b[0;34m\u001b[0m\u001b[0m\n\u001b[0m",
            "\u001b[0;31mTypeError\u001b[0m: array() missing required argument 'object' (pos 0)"
          ]
        }
      ]
    },
    {
      "cell_type": "code",
      "source": [
        "#creating two-dimensionsal array\n",
        "list_m = [[1, 2, 3], [4, 5, 6], [7, 8, 9]] #nested lists\n",
        "arr_m = np.array(list_m,dtype=np.int16)\n",
        "print(arr_m)\n",
        "output:\n",
        "[[1 2 3]\n",
        " [4 5 6]\n",
        " [7 8 9]]"
      ],
      "metadata": {
        "colab": {
          "base_uri": "https://localhost:8080/",
          "height": 131
        },
        "id": "Go2YJYJIUbKb",
        "outputId": "e2841da1-3f6d-4039-ab9c-abb875968032"
      },
      "execution_count": null,
      "outputs": [
        {
          "output_type": "error",
          "ename": "SyntaxError",
          "evalue": "ignored",
          "traceback": [
            "\u001b[0;36m  File \u001b[0;32m\"<ipython-input-6-7114570c8460>\"\u001b[0;36m, line \u001b[0;32m5\u001b[0m\n\u001b[0;31m    output:\u001b[0m\n\u001b[0m           ^\u001b[0m\n\u001b[0;31mSyntaxError\u001b[0m\u001b[0;31m:\u001b[0m invalid syntax\n"
          ]
        }
      ]
    },
    {
      "cell_type": "code",
      "source": [
        "#Creating an array of all zeros\n",
        "arr_0 = np.zeros((2,2))  \n",
        "print(arr_0)\n",
        "output:\n",
        "[[0. 0.]\n",
        " [0. 0.]]"
      ],
      "metadata": {
        "colab": {
          "base_uri": "https://localhost:8080/",
          "height": 131
        },
        "id": "L6Sx13vLUlFF",
        "outputId": "c8a4594f-2b6a-44cb-9af5-526c3cc63adc"
      },
      "execution_count": null,
      "outputs": [
        {
          "output_type": "error",
          "ename": "SyntaxError",
          "evalue": "ignored",
          "traceback": [
            "\u001b[0;36m  File \u001b[0;32m\"<ipython-input-7-a384de84eca3>\"\u001b[0;36m, line \u001b[0;32m4\u001b[0m\n\u001b[0;31m    output:\u001b[0m\n\u001b[0m           ^\u001b[0m\n\u001b[0;31mSyntaxError\u001b[0m\u001b[0;31m:\u001b[0m invalid syntax\n"
          ]
        }
      ]
    },
    {
      "cell_type": "code",
      "source": [
        "# Creating an array of all ones\n",
        "arr_1= np.ones((1,2))    \n",
        "print(arr_1)\n",
        "output:\n",
        "[[1. 1.]]"
      ],
      "metadata": {
        "colab": {
          "base_uri": "https://localhost:8080/",
          "height": 131
        },
        "id": "_d8QBes0UolR",
        "outputId": "0f566c08-998d-4f50-d036-9821ed88b846"
      },
      "execution_count": null,
      "outputs": [
        {
          "output_type": "error",
          "ename": "SyntaxError",
          "evalue": "ignored",
          "traceback": [
            "\u001b[0;36m  File \u001b[0;32m\"<ipython-input-8-dbea43d962e6>\"\u001b[0;36m, line \u001b[0;32m4\u001b[0m\n\u001b[0;31m    output:\u001b[0m\n\u001b[0m           ^\u001b[0m\n\u001b[0;31mSyntaxError\u001b[0m\u001b[0;31m:\u001b[0m invalid syntax\n"
          ]
        }
      ]
    },
    {
      "cell_type": "code",
      "source": [
        "# Creating a constant array\n",
        "arr_c = np.full((2,2), 7) \n",
        "print(arr_c)\n",
        "output:\n",
        "[[7 7]\n",
        " [7 7]]"
      ],
      "metadata": {
        "colab": {
          "base_uri": "https://localhost:8080/",
          "height": 131
        },
        "id": "YhkoqAmqUsEz",
        "outputId": "121f3060-b62f-4a41-a59f-dda30e15c37e"
      },
      "execution_count": null,
      "outputs": [
        {
          "output_type": "error",
          "ename": "SyntaxError",
          "evalue": "ignored",
          "traceback": [
            "\u001b[0;36m  File \u001b[0;32m\"<ipython-input-9-0fd15210e887>\"\u001b[0;36m, line \u001b[0;32m4\u001b[0m\n\u001b[0;31m    output:\u001b[0m\n\u001b[0m           ^\u001b[0m\n\u001b[0;31mSyntaxError\u001b[0m\u001b[0;31m:\u001b[0m invalid syntax\n"
          ]
        }
      ]
    },
    {
      "cell_type": "code",
      "source": [
        "arr_L = np.linspace(0, 5,7)\n",
        "print(arr_L)\n",
        "output:\n",
        "[0.         0.83333333 1.66666667 2.5        3.33333333 4.16666667\n",
        " 5.        ]\n",
        "#observe here dtype('float64')"
      ],
      "metadata": {
        "colab": {
          "base_uri": "https://localhost:8080/",
          "height": 131
        },
        "id": "M_QjQ63yUvS4",
        "outputId": "7c698abf-835a-406f-f7a5-497c295899fd"
      },
      "execution_count": null,
      "outputs": [
        {
          "output_type": "error",
          "ename": "SyntaxError",
          "evalue": "ignored",
          "traceback": [
            "\u001b[0;36m  File \u001b[0;32m\"<ipython-input-10-0ee085956e52>\"\u001b[0;36m, line \u001b[0;32m3\u001b[0m\n\u001b[0;31m    output:\u001b[0m\n\u001b[0m           ^\u001b[0m\n\u001b[0;31mSyntaxError\u001b[0m\u001b[0;31m:\u001b[0m invalid syntax\n"
          ]
        }
      ]
    },
    {
      "cell_type": "code",
      "source": [
        "arr_a=np.arange(1, 10,1)\n",
        "print(arr_a)\n",
        "output:\n",
        "[1 2 3 4 5 6 7 8 9]\n",
        "#here dtype('int32')"
      ],
      "metadata": {
        "colab": {
          "base_uri": "https://localhost:8080/",
          "height": 131
        },
        "id": "PKBUtOkLUyAI",
        "outputId": "743d4401-03e7-4c59-c978-bd1183430598"
      },
      "execution_count": null,
      "outputs": [
        {
          "output_type": "error",
          "ename": "SyntaxError",
          "evalue": "ignored",
          "traceback": [
            "\u001b[0;36m  File \u001b[0;32m\"<ipython-input-11-78e67d1ca164>\"\u001b[0;36m, line \u001b[0;32m3\u001b[0m\n\u001b[0;31m    output:\u001b[0m\n\u001b[0m           ^\u001b[0m\n\u001b[0;31mSyntaxError\u001b[0m\u001b[0;31m:\u001b[0m invalid syntax\n"
          ]
        }
      ]
    },
    {
      "cell_type": "code",
      "source": [
        "arr_r = np.random.random((2,2))  \n",
        "print(arr_r)\n",
        "output:                 \n",
        "[[0.05736758 0.58044299]\n",
        " [0.57759937 0.85564153]]"
      ],
      "metadata": {
        "id": "83yG_zHuU2Pl"
      },
      "execution_count": null,
      "outputs": []
    },
    {
      "cell_type": "code",
      "source": [
        "arr_1= np.random.randint(10,100,7)  \n",
        "print(arr_1)\n",
        "output:                     \n",
        "[43 15 15 62 31 88 69]"
      ],
      "metadata": {
        "id": "jg5p2goeU5do"
      },
      "execution_count": null,
      "outputs": []
    },
    {
      "cell_type": "code",
      "source": [
        "arr_n= np.random.randn(10)  \n",
        "print(arr_n) \n",
        "output:\n",
        "[ 0.71586489 -0.2929509   0.1952457   1.07499362  0.08089464 -0.18440427\n",
        " -0.00194278  0.2594934   1.8713812  -0.76195258]"
      ],
      "metadata": {
        "id": "e5UNMPQRU8j2"
      },
      "execution_count": null,
      "outputs": []
    },
    {
      "cell_type": "code",
      "source": [
        "arr_I = np.eye(2)         Create a 2x2 identity matrix\n",
        "print(arr_I)\n",
        "output:\n",
        "[[1. 0.]\n",
        " [0. 1.]]"
      ],
      "metadata": {
        "id": "hkxocdBKU-wb"
      },
      "execution_count": null,
      "outputs": []
    },
    {
      "cell_type": "code",
      "source": [
        "#converting list to ndarray \n",
        "import numpy as np\n",
        "x = [1,2,3] \n",
        "a = np.asarray(x) \n",
        "print (a)\n",
        "output:\n",
        "[1 2 3]\n",
        "# ndarray from tuple \n",
        "x_1 = (1,2,3) \n",
        "a_1 = np.asarray(x_1) \n",
        "print (a_1)\n",
        "output:\n",
        "[1 2 3]\n",
        "# ndarray from list of tuples \n",
        "import numpy as np\n",
        "x_2 = [(1,2,3),(4,5)] \n",
        "a_2 = np.asarray(x_2) \n",
        "print (a_2)\n",
        "output:\n",
        "[(1, 2, 3) (4, 5)]"
      ],
      "metadata": {
        "id": "l72ezCOxVCEp"
      },
      "execution_count": null,
      "outputs": []
    },
    {
      "cell_type": "code",
      "source": [
        "arr.shape :"
      ],
      "metadata": {
        "colab": {
          "base_uri": "https://localhost:8080/",
          "height": 131
        },
        "id": "TYq_yHzQVGkP",
        "outputId": "2a261a44-7825-4db6-a946-00313c1f6acb"
      },
      "execution_count": null,
      "outputs": [
        {
          "output_type": "error",
          "ename": "SyntaxError",
          "evalue": "ignored",
          "traceback": [
            "\u001b[0;36m  File \u001b[0;32m\"<ipython-input-12-c3ae83a31c21>\"\u001b[0;36m, line \u001b[0;32m1\u001b[0m\n\u001b[0;31m    arr.shape :\u001b[0m\n\u001b[0m               ^\u001b[0m\n\u001b[0;31mSyntaxError\u001b[0m\u001b[0;31m:\u001b[0m invalid syntax\n"
          ]
        }
      ]
    },
    {
      "cell_type": "code",
      "source": [
        "import numpy as np \n",
        "arr = np.array([[1,2,3],[4,5,6]]) \n",
        "print (arr.shape)\n",
        "output: \n",
        "(2, 3)\n",
        "#resizing the above array\n",
        "a = np.array([[1,2,3],[4,5,6]]) \n",
        "a.shape = (3,2) \n",
        "print (a)\n",
        "output:\n",
        "[[1 2]\n",
        " [3 4]\n",
        " [5 6]]\n",
        "or \n",
        "a = np.array([[1,2,3],[4,5,6]]) \n",
        "b = a.reshape(3,2) \n",
        "print (b)\n",
        "Output:\n",
        "[[1, 2] \n",
        " [3, 4] \n",
        " [5, 6]]"
      ],
      "metadata": {
        "id": "H8Bf_iEmVH02"
      },
      "execution_count": null,
      "outputs": []
    },
    {
      "cell_type": "code",
      "source": [
        "arr.size :"
      ],
      "metadata": {
        "id": "72pQB_0uVMGK"
      },
      "execution_count": null,
      "outputs": []
    },
    {
      "cell_type": "code",
      "source": [
        "import numpy as np \n",
        "x = np.array([[3,2,1],[4,6,1]]) \n",
        "print(x.size)\n",
        "output:\n",
        "6"
      ],
      "metadata": {
        "id": "bq3wL231VMv1"
      },
      "execution_count": null,
      "outputs": []
    },
    {
      "cell_type": "code",
      "source": [
        "arr.itemsize:"
      ],
      "metadata": {
        "id": "6GXFYCT8VOwh"
      },
      "execution_count": null,
      "outputs": []
    },
    {
      "cell_type": "code",
      "source": [
        "import numpy as np \n",
        "a = np.array([[1,2,3],[4,5,6]]) \n",
        "a.itemsize\n",
        "output:\n",
        "4"
      ],
      "metadata": {
        "id": "bUKwIk4wVRJv"
      },
      "execution_count": null,
      "outputs": []
    },
    {
      "cell_type": "code",
      "source": [
        "arr.ndim:"
      ],
      "metadata": {
        "id": "Rl9IlZY_VUpN"
      },
      "execution_count": null,
      "outputs": []
    },
    {
      "cell_type": "code",
      "source": [
        "import numpy as np \n",
        "a = np.array([[1,2,3],[4,5,6]]) \n",
        "a.ndim\n",
        "output:\n",
        "2"
      ],
      "metadata": {
        "id": "JaFRmgMAVVXP"
      },
      "execution_count": null,
      "outputs": []
    },
    {
      "cell_type": "code",
      "source": [
        "type(arr)"
      ],
      "metadata": {
        "id": "D5nlss4WVVjR"
      },
      "execution_count": null,
      "outputs": []
    },
    {
      "cell_type": "code",
      "source": [
        "#for example -\n",
        "import numpy as np \n",
        "arr = np.array([[1,2,3],[4,5,6]]) \n",
        "print (arr)\n",
        "output: \n",
        "[[1,2,3]\n",
        " [4,5,6]]\n",
        "type(arr)\n",
        "output:\n",
        "numpy.ndarray"
      ],
      "metadata": {
        "id": "8Va91W9XVbqw"
      },
      "execution_count": null,
      "outputs": []
    },
    {
      "cell_type": "code",
      "source": [
        "arr.dtype:"
      ],
      "metadata": {
        "id": "jezF5q1RVeI5"
      },
      "execution_count": null,
      "outputs": []
    },
    {
      "cell_type": "code",
      "source": [
        "#for example -\n",
        "print(arr.dtype)\n",
        "output:\n",
        "int32"
      ],
      "metadata": {
        "id": "aN4vcId_VgAY"
      },
      "execution_count": null,
      "outputs": []
    },
    {
      "cell_type": "code",
      "source": [
        "arr_r = np.random.random((2,2))  \n",
        "print(arr_r)\n",
        "output:                 \n",
        "[[0.05736758 0.58044299]\n",
        " [0.57759937 0.85564153]]"
      ],
      "metadata": {
        "id": "Wun4F9bFuT02"
      },
      "execution_count": null,
      "outputs": []
    },
    {
      "cell_type": "code",
      "source": [
        "arr_1= np.random.randint(10,100,7)  \n",
        "print(arr_1)\n",
        "output:                     \n",
        "[43 15 15 62 31 88 69]"
      ],
      "metadata": {
        "id": "nayDSNdluspW"
      },
      "execution_count": null,
      "outputs": []
    },
    {
      "cell_type": "code",
      "source": [
        "arr_n= np.random.randn(10)  \n",
        "print(arr_n) \n",
        "output:\n",
        "[ 0.71586489 -0.2929509   0.1952457   1.07499362  0.08089464 -0.18440427\n",
        " -0.00194278  0.2594934   1.8713812  -0.76195258]"
      ],
      "metadata": {
        "id": "S3A6GXhDu1dd"
      },
      "execution_count": null,
      "outputs": []
    },
    {
      "cell_type": "code",
      "source": [
        "arr_I = np.eye(2)         Create a 2x2 identity matrix\n",
        "print(arr_I)\n",
        "output:\n",
        "[[1. 0.]\n",
        " [0. 1.]]"
      ],
      "metadata": {
        "id": "i8kFxlZ9u4V2"
      },
      "execution_count": null,
      "outputs": []
    },
    {
      "cell_type": "code",
      "source": [
        "#converting list to ndarray \n",
        "import numpy as np\n",
        "x = [1,2,3] \n",
        "a = np.asarray(x) \n",
        "print (a)\n",
        "output:\n",
        "[1 2 3]\n",
        "# ndarray from tuple \n",
        "x_1 = (1,2,3) \n",
        "a_1 = np.asarray(x_1) \n",
        "print (a_1)\n",
        "output:\n",
        "[1 2 3]\n",
        "# ndarray from list of tuples \n",
        "import numpy as np\n",
        "x_2 = [(1,2,3),(4,5)] \n",
        "a_2 = np.asarray(x_2) \n",
        "print (a_2)\n",
        "output:\n",
        "[(1, 2, 3) (4, 5)]"
      ],
      "metadata": {
        "id": "uE4En3Bou69Z"
      },
      "execution_count": null,
      "outputs": []
    },
    {
      "cell_type": "code",
      "source": [
        "arr.shape :"
      ],
      "metadata": {
        "id": "Tg_Sn995u9Bh"
      },
      "execution_count": null,
      "outputs": []
    },
    {
      "cell_type": "code",
      "source": [
        "import numpy as np \n",
        "arr = np.array([[1,2,3],[4,5,6]]) \n",
        "print (arr.shape)\n",
        "output: \n",
        "(2, 3)\n",
        "#resizing the above array\n",
        "a = np.array([[1,2,3],[4,5,6]]) \n",
        "a.shape = (3,2) \n",
        "print (a)\n",
        "output:\n",
        "[[1 2]\n",
        " [3 4]\n",
        " [5 6]]\n",
        "or \n",
        "a = np.array([[1,2,3],[4,5,6]]) \n",
        "b = a.reshape(3,2) \n",
        "print (b)\n",
        "Output:\n",
        "[[1, 2] \n",
        " [3, 4] \n",
        " [5, 6]]"
      ],
      "metadata": {
        "id": "yw-cR9shu9HY"
      },
      "execution_count": null,
      "outputs": []
    },
    {
      "cell_type": "code",
      "source": [
        "arr.size :"
      ],
      "metadata": {
        "id": "bcWaPE5PvB-F"
      },
      "execution_count": null,
      "outputs": []
    },
    {
      "cell_type": "code",
      "source": [
        "import numpy as np \n",
        "x = np.array([[3,2,1],[4,6,1]]) \n",
        "print(x.size)\n",
        "output:\n",
        "6"
      ],
      "metadata": {
        "id": "elRKvJbPvD5e"
      },
      "execution_count": null,
      "outputs": []
    },
    {
      "cell_type": "code",
      "source": [
        "arr.itemsize:"
      ],
      "metadata": {
        "id": "M5vjbYM4vL4U"
      },
      "execution_count": null,
      "outputs": []
    },
    {
      "cell_type": "code",
      "source": [
        "import numpy as np \n",
        "a = np.array([[1,2,3],[4,5,6]]) \n",
        "a.itemsize\n",
        "output:\n",
        "4"
      ],
      "metadata": {
        "id": "fjGlBlkOvNte"
      },
      "execution_count": null,
      "outputs": []
    },
    {
      "cell_type": "code",
      "source": [
        "arr.ndim:"
      ],
      "metadata": {
        "id": "zkcM9GgGvPTB"
      },
      "execution_count": null,
      "outputs": []
    },
    {
      "cell_type": "code",
      "source": [
        "import numpy as np \n",
        "a = np.array([[1,2,3],[4,5,6]]) \n",
        "a.ndim\n",
        "output:\n",
        "2"
      ],
      "metadata": {
        "id": "n9Sx-z2ovPfC"
      },
      "execution_count": null,
      "outputs": []
    },
    {
      "cell_type": "code",
      "source": [
        "type(arr)"
      ],
      "metadata": {
        "id": "mZYGiEP0vPjK"
      },
      "execution_count": null,
      "outputs": []
    },
    {
      "cell_type": "code",
      "source": [
        "#for example -\n",
        "import numpy as np \n",
        "arr = np.array([[1,2,3],[4,5,6]]) \n",
        "print (arr)\n",
        "output: \n",
        "[[1,2,3]\n",
        " [4,5,6]]\n",
        "type(arr)\n",
        "output:\n",
        "numpy.ndarray"
      ],
      "metadata": {
        "id": "VLHyqOvjvPmg"
      },
      "execution_count": null,
      "outputs": []
    },
    {
      "cell_type": "code",
      "source": [
        "#for example -\n",
        "print(arr.dtype)\n",
        "output:\n",
        "int32"
      ],
      "metadata": {
        "id": "CmHMNRMuvXX0"
      },
      "execution_count": null,
      "outputs": []
    },
    {
      "cell_type": "code",
      "source": [
        "arr.nbytes:"
      ],
      "metadata": {
        "id": "bNSNw0C7vXdy"
      },
      "execution_count": null,
      "outputs": []
    },
    {
      "cell_type": "code",
      "source": [
        "import numpy as np \n",
        "a = np.array([[1,2,3],[4,5,6]]) \n",
        "a.nbytes\n",
        "output:\n",
        "24"
      ],
      "metadata": {
        "id": "vmZFIY1SvXgY"
      },
      "execution_count": null,
      "outputs": []
    },
    {
      "cell_type": "code",
      "source": [
        "import numpy as np\n",
        "arr = np.arange(10)\n",
        "print(arr)\n",
        "output:\n",
        "[0 1 2 3 4 5 6 7 8 9]\n",
        "#Example-1\n",
        "print(arr[7])\n",
        "or \n",
        "print(arr[-3])\n",
        "output:\n",
        "7\n",
        "#Example-2\n",
        "print(arr[0:5])\n",
        "or \n",
        "print(arr[0:-4])\n",
        "output:\n",
        "[0 1 2 3 4 5]\n",
        "#Example-3\n",
        "print(arr[-4:-1])\n",
        "output:\n",
        "[6 7 8]"
      ],
      "metadata": {
        "id": "E__F6Z1jvXjL"
      },
      "execution_count": null,
      "outputs": []
    },
    {
      "cell_type": "code",
      "source": [
        "arr[lower:upper:step]"
      ],
      "metadata": {
        "id": "l6Fc8_RZvXl1"
      },
      "execution_count": null,
      "outputs": []
    },
    {
      "cell_type": "code",
      "source": [
        "import numpy as np \n",
        "arr = np.arange(10)\n",
        "#Slicing single element\n",
        "slice_arr = arr[2] \n",
        "print (slice_arr)\n",
        "output:\n",
        "[2]\n",
        "#Slicing elements in between indexes\n",
        "print (arr[2:5])\n",
        "or\n",
        "print (arr[-8:-5]) #using negative index\n",
        "output:\n",
        "[2,3,4]\n",
        "#using slice(lower,upper,step) function\n",
        "s = slice(2,7,2) \n",
        "print (arr[s])\n",
        "output:\n",
        "[2,4,6]\n",
        "or\n",
        "slice_arr = arr[2:7:2] \n",
        "print (slice_arr)\n",
        "output:\n",
        "[2,4,6]"
      ],
      "metadata": {
        "id": "PvKCuGuWvjkb"
      },
      "execution_count": null,
      "outputs": []
    },
    {
      "cell_type": "code",
      "source": [
        "x= np.array([11,12,13,14,15])\n",
        "print(np.take(x, [0, 3,4]))\n",
        "output:\n",
        "[11 14 15]"
      ],
      "metadata": {
        "id": "8AACEzxXvrIs"
      },
      "execution_count": null,
      "outputs": []
    },
    {
      "cell_type": "code",
      "source": [
        "arr=np.arange(10)\n",
        "#Example-1\n",
        "print(arr[:5])\n",
        "output:\n",
        "[0 1 2 3 4]\n",
        "#Example-2\n",
        "print(arr[5:])\n",
        "output:\n",
        "[5 6 7 8 9]\n",
        "#Example-3\n",
        "print(arr[::2])\n",
        "output:\n",
        "[0 2 4 6 8]"
      ],
      "metadata": {
        "id": "PqMmXHagvrL3"
      },
      "execution_count": null,
      "outputs": []
    },
    {
      "cell_type": "code",
      "source": [
        "import numpy as np \n",
        "arr = np.array([[1,2,3],[3,4,5],[4,5,6]])\n",
        "print (arr)\n",
        "output:\n",
        "[[1 2 3]\n",
        " [3 4 5]\n",
        " [4 5 6]]\n",
        "#Slicing first row\n",
        "print (arr[0:1])\n",
        "output:\n",
        "[[1 2 3]]\n",
        "#slicing last 2 rows\n",
        "print (arr[1:])\n",
        "output:\n",
        "[[3 4 5]\n",
        " [4 5 6]]\n",
        "#slicing three rows and first column\n",
        "print (arr[0:3,0:1])\n",
        "output:\n",
        "[[1]\n",
        " [3]\n",
        " [4]]\n",
        "#slicing 4 from above array\n",
        "print (arr[1:2,1:2])\n",
        "output:\n",
        "[[4]] "
      ],
      "metadata": {
        "id": "MIWiiWjev1Tm"
      },
      "execution_count": null,
      "outputs": []
    },
    {
      "cell_type": "code",
      "source": [
        "numpy.stack(arrays,axis)"
      ],
      "metadata": {
        "id": "xqNpGMHbv2Qh"
      },
      "execution_count": null,
      "outputs": []
    },
    {
      "cell_type": "code",
      "source": [
        "import numpy as np\n",
        "arr_1 = np.array([1, 2, 3])\n",
        "arr_2 = np.array([2, 3, 4])\n",
        "arr_stack=np.stack((arr_1,arr_2),axis=0)\n",
        "print(arr_stack)\n",
        "print(arr_stack.shape)\n",
        "output:\n",
        "[[1 2 3]\n",
        " [2 3 4]]\n",
        "(2,3)\n",
        "arr_stack=np.stack((arr_1,arr_2),axis=1)\n",
        "print(arr_stack)\n",
        "print(arr_stack.shape)\n",
        "output:\n",
        "[[1 2]\n",
        " [2 3]\n",
        " [3 4]]\n",
        "(3,2)"
      ],
      "metadata": {
        "id": "nwz9mxOov-CD"
      },
      "execution_count": null,
      "outputs": []
    },
    {
      "cell_type": "code",
      "source": [
        "numpy.vstack(tup)"
      ],
      "metadata": {
        "id": "g5mDu6dMv-gA"
      },
      "execution_count": null,
      "outputs": []
    },
    {
      "cell_type": "code",
      "source": [
        "numpy.hstack(tup)"
      ],
      "metadata": {
        "id": "M208HO18v-ii"
      },
      "execution_count": null,
      "outputs": []
    },
    {
      "cell_type": "code",
      "source": [
        "# Generate random arrays\n",
        "arr_1 = np.random.randint(10, size=(2, 2))\n",
        "print(\" arr_1\\n\", arr_1)\n",
        "arr_2 = np.random.randint(10, size=(2, 2))\n",
        "print(\" arr_2\\n\", arr_2)\n",
        "output:\n",
        " arr_1\n",
        " [[0 2]\n",
        " [7 6]]\n",
        " arr_2\n",
        " [[3 7]\n",
        " [1 4]]\n",
        "# Stack arr_2 under arr_1\n",
        "a=np.vstack((arr_1, arr_2))\n",
        "print(a)\n",
        "output:\n",
        "[[0 2]\n",
        " [7 6]\n",
        " [3 7]\n",
        " [1 4]]\n",
        "# Stacking  horizontally\n",
        "b=np.hstack((arr_1, arr_2))\n",
        "print(b)\n",
        "output:\n",
        "[[0 2 3 7]\n",
        " [7 6 1 4]]\n"
      ],
      "metadata": {
        "id": "nSpn12SHv-lK"
      },
      "execution_count": null,
      "outputs": []
    },
    {
      "cell_type": "code",
      "source": [
        "numpy.dstack(tup)"
      ],
      "metadata": {
        "id": "NooIWP7Iv-na"
      },
      "execution_count": null,
      "outputs": []
    },
    {
      "cell_type": "code",
      "source": [
        "#continuing above commands\n",
        "#stacking depth wise\n",
        "c=np.dstack((arr_1, arr_2))\n",
        "print(c)\n",
        "output:\n",
        "[[[0 3]\n",
        " [2 7]]\n",
        "[[7 1]\n",
        " [6 4]]]"
      ],
      "metadata": {
        "id": "iefbD8Csv-qW"
      },
      "execution_count": null,
      "outputs": []
    },
    {
      "cell_type": "code",
      "source": [
        "numpy.column_stack(tup)"
      ],
      "metadata": {
        "id": "99zSFW0cv-tB"
      },
      "execution_count": null,
      "outputs": []
    },
    {
      "cell_type": "code",
      "source": [
        "numpy.row_stack(tup)"
      ],
      "metadata": {
        "id": "Yegf2Yi6wQJL"
      },
      "execution_count": null,
      "outputs": []
    },
    {
      "cell_type": "code",
      "source": [
        "# row_stack()\n",
        "a=np.row_stack((arr_1, arr_2))\n",
        "print(a)\n",
        "output:\n",
        "[[0 2]\n",
        " [7 6]\n",
        " [3 7]\n",
        " [1 4]]\n",
        "# column_stack()\n",
        "b=np.column_stack((arr_1, arr_2))\n",
        "print(b)\n",
        "output:\n",
        "[[0 2 3 7]\n",
        " [7 6 1 4]]"
      ],
      "metadata": {
        "id": "ccjWAWoAwQOR"
      },
      "execution_count": null,
      "outputs": []
    },
    {
      "cell_type": "code",
      "source": [
        "numpy.split(array,Indices_or_sections,axis)"
      ],
      "metadata": {
        "id": "X46zJh8wwQSc"
      },
      "execution_count": null,
      "outputs": []
    },
    {
      "cell_type": "code",
      "source": [
        "x = np.arange(9.0)\n",
        "np.split(x, 3)\n",
        "output:\n",
        "[array([0.,  1.,  2.]), array([3.,  4.,  5.]), array([6.,  7.,  8.])]"
      ],
      "metadata": {
        "id": "S6vQMe07wQV-"
      },
      "execution_count": null,
      "outputs": []
    },
    {
      "cell_type": "code",
      "source": [
        "numpy.array_split(array,Indices_or_sections,axis)"
      ],
      "metadata": {
        "id": "LKUk9eyDwQZV"
      },
      "execution_count": null,
      "outputs": []
    },
    {
      "cell_type": "code",
      "source": [
        "x = np.arange(8.0)\n",
        "np.array_split(x, 3)\n",
        "output:\n",
        "[array([0.,  1.,  2.]), array([3.,  4.,  5.]), array([6.,  7.])]\n",
        "x = np.arange(7.0)\n",
        "np.array_split(x, 3)\n",
        "output:\n",
        "[array([0.,  1.,  2.]), array([3.,  4.]), array([5.,  6.])]\n",
        "#all splitted arrays are not equal in size"
      ],
      "metadata": {
        "id": "XgUwb4HAwZyy"
      },
      "execution_count": null,
      "outputs": []
    },
    {
      "cell_type": "code",
      "source": [
        "numpy.hsplit(array,Indices_or_sections,axis)"
      ],
      "metadata": {
        "id": "EDYgciBDwZ2B"
      },
      "execution_count": null,
      "outputs": []
    },
    {
      "cell_type": "code",
      "source": [
        "arr_1 = np.arange(16.0).reshape(4, 4)\n",
        " arr_1\n",
        "output:\n",
        "array([[ 0.,   1.,   2.,   3.],\n",
        "       [ 4.,   5.,   6.,   7.],\n",
        "       [ 8.,   9.,  10.,  11.],\n",
        "       [12.,  13.,  14.,  15.]])\n",
        "np.hsplit(arr_1, 2)\n",
        "output:\n",
        "[array([[  0.,   1.],\n",
        "       [  4.,   5.],\n",
        "       [  8.,   9.],\n",
        "       [12.,  13.]]),\n",
        " array([[  2.,   3.],\n",
        "       [  6.,   7.],\n",
        "       [10.,  11.],\n",
        "       [14.,  15.]])]\n",
        "np.hsplit(arr_1, np.array([3, 6]))\n",
        "output:\n",
        "[array([[ 0.,   1.,   2.],\n",
        "       [ 4.,   5.,   6.],\n",
        "       [ 8.,   9.,  10.],\n",
        "       [12.,  13.,  14.]]),\n",
        " array([[ 3.],\n",
        "       [ 7.],\n",
        "       [11.],\n",
        "       [15.]]),\n",
        " array([], shape=(4, 0), dtype=float64)]"
      ],
      "metadata": {
        "id": "SQSKvoh0wZ5O"
      },
      "execution_count": null,
      "outputs": []
    },
    {
      "cell_type": "code",
      "source": [
        "numpy.vsplit(array,Indices_or_sections,axis)"
      ],
      "metadata": {
        "id": "k1H5oTpqwZ7j"
      },
      "execution_count": null,
      "outputs": []
    },
    {
      "cell_type": "code",
      "source": [
        "arr_1= np.arange(16.0).reshape(4, 4)\n",
        "arr_1\n",
        "output:\n",
        "array([[ 0.,   1.,   2.,   3.],\n",
        "       [ 4.,   5.,   6.,   7.],\n",
        "       [ 8.,   9.,  10.,  11.],\n",
        "       [12.,  13.,  14.,  15.]])\n",
        "np.vsplit(arr_1, 2)\n",
        "output:\n",
        "[array([[0., 1., 2., 3.],\n",
        "       [4., 5., 6., 7.]]), array([[ 8.,  9., 10., 11.],\n",
        "       [12., 13., 14., 15.]])]\n",
        "np.vsplit(arr_1, np.array([3, 6]))\n",
        "output:\n",
        "[array([[ 0.,  1.,  2.,  3.],\n",
        "       [ 4.,  5.,  6.,  7.],\n",
        "       [ 8.,  9., 10., 11.]]), array([[12., 13., 14., 15.]]), array([], shape=(0, 4), dtype=float64)]"
      ],
      "metadata": {
        "id": "RAnxyAKDwZ_D"
      },
      "execution_count": null,
      "outputs": []
    },
    {
      "cell_type": "code",
      "source": [
        "import numpy as np\n",
        "arr_3 = np.array([1, 2, 3, 4])\n",
        "arr_4 = np.array([2, 4, 6, 8])\n",
        "# Add values\n",
        "print(arr_3 + arr_4)\n",
        "or\n",
        "np.add(arr_3 ,arr_4)\n",
        "output:\n",
        "[ 3,  6,  9, 12]\n",
        "# Subtract\n",
        "print(arr_3 - arr_4)\n",
        "or\n",
        "np.subtract(arr_3 ,arr_4)\n",
        "output:\n",
        "[-1, -2, -3, -4]\n",
        "# Multiply\n",
        "print(arr_3 * arr_4)\n",
        "or\n",
        "np.multiply(arr_3 ,arr_4)\n",
        "output:\n",
        "[ 2,  8, 18, 32]\n",
        "# Divide\n",
        "print(arr_3 / arr_4)\n",
        "or\n",
        "np.divide(arr_3,arr_4)\n",
        "output:\n",
        "[0.5, 0.5, 0.5, 0.5]"
      ],
      "metadata": {
        "id": "SZY6EWlBwaBK"
      },
      "execution_count": null,
      "outputs": []
    },
    {
      "cell_type": "code",
      "source": [
        "#Random 2 by 3 digit 2D array between 0 to 100\n",
        "arr_6 =np.random.randint(100, size=(2, 3))\n",
        "print(arr_6)\n",
        "output:\n",
        "[[62, 96, 50],\n",
        " [87, 26, 42]]\n",
        "# Sum of values in array\n",
        "a=arr_3.sum()\n",
        "print(a)\n",
        "output:\n",
        "10\n",
        "# Sum columns\n",
        "c=arr_6.sum(axis=0)\n",
        "print(c)\n",
        "output:\n",
        "[149 122  92]\n",
        "# Cumulative sum of rows\n",
        "b=arr_6.cumsum(axis=1)\n",
        "print(b)\n",
        "output:\n",
        "[[ 62 158 208]\n",
        " [ 87 113 155]]"
      ],
      "metadata": {
        "id": "qTg5fSqtwtNp"
      },
      "execution_count": null,
      "outputs": []
    },
    {
      "cell_type": "code",
      "source": [
        "arr=np.array([[62, 96, 50],\n",
        "       [87, 26, 42]])\n",
        "# Min of each row\n",
        "print(arr.min(axis=1))\n",
        "output:\n",
        "[52  1]\n",
        "# Max of each column\n",
        "print(arr.max(axis=0))\n",
        "output:\n",
        "[87 96 50]"
      ],
      "metadata": {
        "id": "X-sr_4YUwtXF"
      },
      "execution_count": null,
      "outputs": []
    },
    {
      "cell_type": "code",
      "source": [
        "print(np.absolute([-1, -2]))\n",
        "output:\n",
        "[1, 2]"
      ],
      "metadata": {
        "id": "0q_-aEFuwtfD"
      },
      "execution_count": null,
      "outputs": []
    },
    {
      "cell_type": "code",
      "source": [
        "arr_5 = np.array([[1, 2], [3, 4]])\n",
        "arr_6 = np.array([[2, 4], [6, 9]])\n",
        "# Return values in 1st array to powers defined in 2nd array\n",
        "print(np.power(arr_5, arr_6))\n",
        "output:\n",
        "[[     1,     16],\n",
        "      [   729, 262144]]\n",
        "arr_3 = np.array([1, 2, 3, 4])\n",
        "#Square Root\n",
        "print(np.sqrt(arr_3))\n",
        "output:\n",
        "[1.         1.41421356 1.73205081 2.        ]\n",
        "#Cube Root\n",
        "print(np.cbrt(arr_3))\n",
        "output:\n",
        "[1.         1.25992105 1.44224957 1.58740105]"
      ],
      "metadata": {
        "id": "7Vwzup0wwtyw"
      },
      "execution_count": null,
      "outputs": []
    },
    {
      "cell_type": "code",
      "source": [
        "arr_3 = np.array([1, 2, 3, 4])\n",
        "#Exponential of all elements in array\n",
        "print(np.exp(arr_3))\n",
        "output:\n",
        "[ 2.71828183  7.3890561  20.08553692 54.59815003]"
      ],
      "metadata": {
        "id": "x3AjFGt2w4Er"
      },
      "execution_count": null,
      "outputs": []
    },
    {
      "cell_type": "code",
      "source": [
        "print(np.log(arr_3))\n",
        "output:\n",
        "[0.         0.69314718 1.09861229 1.38629436]\n",
        "print(np.log2(arr_3))\n",
        "output:\n",
        "[0.        1.        1.5849625 2.       ]\n",
        "print(np.log10(arr_3))\n",
        "output:\n",
        "[0.         0.30103    0.47712125 0.60205999]"
      ],
      "metadata": {
        "id": "AxJbGrAHw4I5"
      },
      "execution_count": null,
      "outputs": []
    },
    {
      "cell_type": "code",
      "source": [
        "print(np.gcd.reduce([9, 12, 15]))\n",
        "output:\n",
        "3"
      ],
      "metadata": {
        "id": "rPce9IzKw4LY"
      },
      "execution_count": null,
      "outputs": []
    },
    {
      "cell_type": "code",
      "source": [
        "print(np.lcm.reduce([9, 12, 15]))\n",
        "output:\n",
        "180"
      ],
      "metadata": {
        "id": "faFb3vgFw4OI"
      },
      "execution_count": null,
      "outputs": []
    },
    {
      "cell_type": "code",
      "source": [
        "# Round down\n",
        "print(np.floor([1.2, 2.5]))\n",
        "output:\n",
        "[1. 2.]\n",
        "# Round up\n",
        "print(np.ceil([1.2, 2.5]))\n",
        "output:\n",
        "[2. 3.]"
      ],
      "metadata": {
        "id": "aMChbt6bxDRe"
      },
      "execution_count": null,
      "outputs": []
    },
    {
      "cell_type": "code",
      "source": [
        "import numpy as np\n",
        "import matplotlib.pyplot as plt\n",
        "# Generate array of 200 values between -pi & pi\n",
        "t_arr = np.linspace(-2*np.pi, 2*np.pi, 200)\n",
        "fig = plt.figure()\n",
        "ax = plt.axes()\n",
        "ax.grid(color='black', linestyle='-', linewidth=2,alpha=0.1)\n",
        "# Plotting Sin(X)\n",
        "plt.plot(t_arr, np.sin(t_arr),color='black') # SIN\n",
        "plt.title(\"sin(x)\")\n",
        "# Display plot\n",
        "plt.show()"
      ],
      "metadata": {
        "id": "H6DNKB8XxDXT"
      },
      "execution_count": null,
      "outputs": []
    },
    {
      "cell_type": "code",
      "source": [
        "#plotting cos(x)\n",
        "plt.plot(t_arr, np.cos(t_arr),color='darkorange') # COS\n",
        "plt.title(\"cos(x)\")"
      ],
      "metadata": {
        "id": "7pRR8KBxxHWN"
      },
      "execution_count": null,
      "outputs": []
    },
    {
      "cell_type": "code",
      "source": [
        "#plotting tan(x)\n",
        "plt.plot(t_arr, np.tan(t_arr),color='skyblue') # TAN\n",
        "plt.title(\"tan(x)\")"
      ],
      "metadata": {
        "id": "nOL5B2uLxH3a"
      },
      "execution_count": null,
      "outputs": []
    },
    {
      "cell_type": "code",
      "source": [
        "plt.plot(t_arr, np.sin(t_arr),color='black',label='sin(x)') # SIN\n",
        "plt.plot(t_arr, np.cos(t_arr),color='darkorange',label='cos(x)') # COS\n",
        "plt.plot(t_arr, np.tan(t_arr),color='skyblue',label='tan(x)') # TAN\n",
        "plt.legend(loc='best')\n",
        "plt.show()"
      ],
      "metadata": {
        "id": "tRSsQTJ9xL8U"
      },
      "execution_count": null,
      "outputs": []
    },
    {
      "cell_type": "code",
      "source": [
        "# Provides inverse \n",
        "print(np.arcsin(1))\n",
        "print(np.arccos(1))\n",
        "print(np.arctan(0))\n",
        "output:\n",
        "1.5707963267948966\n",
        "0.0\n",
        "0.0"
      ],
      "metadata": {
        "id": "o6CLyJHmxOdU"
      },
      "execution_count": null,
      "outputs": []
    },
    {
      "cell_type": "code",
      "source": [
        "# Radians to degrees\n",
        "print(np.rad2deg(np.pi))\n",
        "output:\n",
        "180.0\n",
        "# Degrees to radians\n",
        "print(np.deg2rad(180))\n",
        "output:\n",
        "3.141592653589793"
      ],
      "metadata": {
        "id": "APeCvpnExOjA"
      },
      "execution_count": null,
      "outputs": []
    },
    {
      "cell_type": "code",
      "source": [
        "arr_1 = np.arange(1, 6)\n",
        "print(arr_1)\n",
        "output:\n",
        "[1 2 3 4 5]\n",
        "#mean\n",
        "print(np.mean(arr_1))\n",
        "output:\n",
        "3.0\n",
        "#median\n",
        "print(np.median(arr_1))\n",
        "output:\n",
        "3.0\n",
        "#average\n",
        "print(np.average(arr_1))\n",
        "output:\n",
        "3.0\n",
        "# Standard Deviation\n",
        "print(np.std([4, 6, 3, 5, 2])) \n",
        "output:\n",
        "1.4142135623730951\n",
        "#variance\n",
        "print(np.var([4, 6, 3, 5, 2]))\n",
        "output:\n",
        "2.0"
      ],
      "metadata": {
        "id": "2ppIPWrUxSuN"
      },
      "execution_count": null,
      "outputs": []
    },
    {
      "cell_type": "code",
      "source": [
        "import numpy as np\n",
        "import matplotlib.pyplot as plt\n",
        "from mpl_toolkits.mplot3d import Axes3D\n",
        "v3=[ 4, 6 , 7 ]\n",
        "v2= [ 4 ,7 ,9 ]\n",
        "v3t = np.transpose(v3)\n",
        "print(v3t)\n",
        "output:\n",
        "[ 4, 6 , 7 ]"
      ],
      "metadata": {
        "id": "Z-Ke0hn-xXLH"
      },
      "execution_count": null,
      "outputs": []
    },
    {
      "cell_type": "code",
      "source": [
        "#taking 2 vectors of same dimention\n",
        "v1 = np.array([ 2 ,6 ])\n",
        "v2 = np.array([ 5 ,7 ])\n",
        "v3 = v1+v2 #Addition\n",
        "print(v3)\n",
        "output:\n",
        "[ 7, 13]\n",
        "v4 = v2-v1 #Subtraction\n",
        "print(v4)\n",
        "output:\n",
        "[3, 1]"
      ],
      "metadata": {
        "id": "IXtmcPxDxY-p"
      },
      "execution_count": null,
      "outputs": []
    },
    {
      "cell_type": "code",
      "source": [
        "# VECTOR SCALAR PRODUCT\n",
        "v1 = np.array([ 9 ,2 ]) \n",
        "c= 0.7\n",
        "v2= c*v1\n",
        "print(v2)\n",
        "output:\n",
        "[6.3, 1.4]\n",
        "# dot product \n",
        "v1 = np.array([ 4 ,3 ,9 ])\n",
        "v2 = np.array([ 1 ,2 ,3 ])\n",
        "#method 1\n",
        "D_P1 = sum( np.multiply(v1,v2)  )\n",
        "print(D_P1)\n",
        "output:\n",
        "37\n",
        "#method 2\n",
        "D_P2 = np.dot( v1,v2 )\n",
        "print(D_P2)\n",
        "output:\n",
        "37\n",
        "#method 3\n",
        "D_P3= np.matmul( v1,v2 )\n",
        "print(D_P3)\n",
        "output:\n",
        "37"
      ],
      "metadata": {
        "id": "G-hqoGByxbeq"
      },
      "execution_count": null,
      "outputs": []
    },
    {
      "cell_type": "code",
      "source": [
        "# create vectors\n",
        "w1 = [ 1, 3, 5 ]\n",
        "w2 = [ 3, 4, 2 ]\n",
        "w3 = np.multiply(w1,w2)\n",
        "print(w3)\n",
        "output:\n",
        "[ 3 12 10]"
      ],
      "metadata": {
        "id": "7k5YqO_vxdFv"
      },
      "execution_count": null,
      "outputs": []
    },
    {
      "cell_type": "code",
      "source": [
        "v1 = np.array([3,9,9])\n",
        "v2 = np.array([2,3,4])\n",
        "v3 = np.cross (v1,v2)\n",
        "print (v3)\n",
        "output:\n",
        "[ 9  6 -9]"
      ],
      "metadata": {
        "id": "kdTQgDmCxej8"
      },
      "execution_count": null,
      "outputs": []
    },
    {
      "cell_type": "code",
      "source": [
        "#  vector \n",
        "v1 = np.array([ 3,4,6 ])\n",
        "# example method 1\n",
        "vl = np.sqrt( sum( np.multiply(v1,v1)) )\n",
        "or\n",
        "# method 2: take the norm\n",
        "vl = np.linalg.norm(v1)\n",
        "print(vl)\n",
        "output:\n",
        "7.810249675906654"
      ],
      "metadata": {
        "id": "Ingt7JdmxgLC"
      },
      "execution_count": null,
      "outputs": []
    },
    {
      "cell_type": "markdown",
      "source": [
        "https://medium.com/mlpoint/numpy-for-machine-learning-211a3e58b574"
      ],
      "metadata": {
        "id": "u5EL1LTIxiuN"
      }
    }
  ]
}