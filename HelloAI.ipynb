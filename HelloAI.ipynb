{
  "nbformat": 4,
  "nbformat_minor": 0,
  "metadata": {
    "colab": {
      "provenance": [],
      "authorship_tag": "ABX9TyM4Zy4S19n/tvhc5uiyUaeR",
      "include_colab_link": true
    },
    "kernelspec": {
      "name": "python3",
      "display_name": "Python 3"
    },
    "language_info": {
      "name": "python"
    }
  },
  "cells": [
    {
      "cell_type": "markdown",
      "metadata": {
        "id": "view-in-github",
        "colab_type": "text"
      },
      "source": [
        "<a href=\"https://colab.research.google.com/github/homerabbitsky/HelloAI/blob/main/HelloAI.ipynb\" target=\"_parent\"><img src=\"https://colab.research.google.com/assets/colab-badge.svg\" alt=\"Open In Colab\"/></a>"
      ]
    },
    {
      "cell_type": "markdown",
      "source": [
        "# Hello Python and AI\n",
        "### this uses a markdown language\n",
        "\n"
      ],
      "metadata": {
        "id": "QAZcg1h36SMP"
      }
    },
    {
      "cell_type": "code",
      "execution_count": null,
      "metadata": {
        "colab": {
          "base_uri": "https://localhost:8080/"
        },
        "id": "1CCnqhFQ5-TA",
        "outputId": "5f75ba6f-121b-4154-feb0-e525b111429c"
      },
      "outputs": [
        {
          "output_type": "stream",
          "name": "stdout",
          "text": [
            "Hello Python and AI\n",
            "1 + 2 = 3\n",
            "Hello: 3\n",
            "Hello: True\n",
            "Hello: 3.141519\n",
            "Hello:  a string\n",
            "Hello: [0, 1, 2, 3]\n"
          ]
        }
      ],
      "source": [
        "print(\"Hello Python and AI\")\n",
        "\n",
        "a = 1\n",
        "b = 2\n",
        "\n",
        "print(f\"{a} + {b} = {a+b}\")\n",
        "\n",
        "def sayHello(msg):\n",
        "  print(f\"Hello: {msg}\")\n",
        "\n",
        "sayHello(3)\n",
        "sayHello(True)\n",
        "sayHello(3.141519)\n",
        "sayHello(\" a string\")\n",
        "sayHello([0, 1, 2, 3])"
      ]
    },
    {
      "cell_type": "code",
      "source": [
        "sayHello(\"still alive!\")"
      ],
      "metadata": {
        "colab": {
          "base_uri": "https://localhost:8080/"
        },
        "id": "AXr80shx-hIg",
        "outputId": "11c07fec-9a25-4ba8-e5cf-f93889a899f9"
      },
      "execution_count": null,
      "outputs": [
        {
          "output_type": "stream",
          "name": "stdout",
          "text": [
            "Hello: still alive!\n"
          ]
        }
      ]
    },
    {
      "cell_type": "code",
      "source": [
        "import torch\n",
        "import numpy\n",
        "import matplotlib.pyplot as plt\n",
        "\n",
        "x = torch.ones(3,2)\n",
        "print(x)"
      ],
      "metadata": {
        "colab": {
          "base_uri": "https://localhost:8080/"
        },
        "id": "ZtybJudR_QcU",
        "outputId": "9a7ac4a4-b9d3-4816-e22b-d3a551b51e4d"
      },
      "execution_count": null,
      "outputs": [
        {
          "output_type": "stream",
          "name": "stdout",
          "text": [
            "tensor([[1., 1.],\n",
            "        [1., 1.],\n",
            "        [1., 1.]])\n"
          ]
        }
      ]
    },
    {
      "cell_type": "code",
      "source": [
        "import numpy as np\n"
      ],
      "metadata": {
        "id": "K_dV8DCNRDnk"
      },
      "execution_count": null,
      "outputs": []
    },
    {
      "cell_type": "code",
      "source": [
        "\n",
        "\n",
        "import numpy as np\n",
        "#creating 1-dimensional arrays\n",
        "#creating python list\n",
        "list_1 = [3,2,7]\n",
        "arr_1 = np.array(list_1,dtype=np.int16)\n",
        "print(arr_1)\n",
        "#or \n",
        "arr_1=np.array([3,2,7])\n",
        "print(arr_1)\n",
        "\n",
        "#creating array of complex number\n",
        "arr_complex = np.array([1, 2, 3], dtype = complex)\n",
        "print(arr_complex)\n"
      ],
      "metadata": {
        "colab": {
          "base_uri": "https://localhost:8080/"
        },
        "id": "SDbkoixRSQcN",
        "outputId": "52ac24fc-8a9c-41a9-ebb6-91584a7f67ba"
      },
      "execution_count": null,
      "outputs": [
        {
          "output_type": "stream",
          "name": "stdout",
          "text": [
            "[3 2 7]\n",
            "[3 2 7]\n",
            "[1.+0.j 2.+0.j 3.+0.j]\n"
          ]
        }
      ]
    },
    {
      "cell_type": "code",
      "source": [
        "#creating two-dimensionsal array\n",
        "list_m = [[1, 2, 3], [4, 5, 6], [7, 8, 9]] #nested lists\n",
        "arr_m = np.array(list_m,dtype=np.int16)\n",
        "print(arr_m)\n"
      ],
      "metadata": {
        "colab": {
          "base_uri": "https://localhost:8080/"
        },
        "id": "Go2YJYJIUbKb",
        "outputId": "967799c8-09f4-4dce-c5a7-fc6525b0ac6b"
      },
      "execution_count": null,
      "outputs": [
        {
          "output_type": "stream",
          "name": "stdout",
          "text": [
            "[[1 2 3]\n",
            " [4 5 6]\n",
            " [7 8 9]]\n"
          ]
        }
      ]
    },
    {
      "cell_type": "code",
      "source": [
        "#Creating an array of all zeros\n",
        "arr_0 = np.zeros((2,2))  \n",
        "print(arr_0)\n"
      ],
      "metadata": {
        "colab": {
          "base_uri": "https://localhost:8080/"
        },
        "id": "L6Sx13vLUlFF",
        "outputId": "8ff45988-6e8c-4bdf-cbca-d31ac47b9036"
      },
      "execution_count": null,
      "outputs": [
        {
          "output_type": "stream",
          "name": "stdout",
          "text": [
            "[[0. 0.]\n",
            " [0. 0.]]\n"
          ]
        }
      ]
    },
    {
      "cell_type": "code",
      "source": [
        "# Creating an array of all ones\n",
        "arr_1= np.ones((1,2))    \n",
        "print(arr_1)\n"
      ],
      "metadata": {
        "colab": {
          "base_uri": "https://localhost:8080/"
        },
        "id": "_d8QBes0UolR",
        "outputId": "afeaa18c-fc13-44b8-b3c3-ef134b67e1d0"
      },
      "execution_count": null,
      "outputs": [
        {
          "output_type": "stream",
          "name": "stdout",
          "text": [
            "[[1. 1.]]\n"
          ]
        }
      ]
    },
    {
      "cell_type": "code",
      "source": [
        "# Creating a constant array\n",
        "arr_c = np.full((2,2), 7) \n",
        "print(arr_c)\n"
      ],
      "metadata": {
        "colab": {
          "base_uri": "https://localhost:8080/"
        },
        "id": "YhkoqAmqUsEz",
        "outputId": "fef97c98-022a-4ae7-e736-b127fc0f8bb9"
      },
      "execution_count": null,
      "outputs": [
        {
          "output_type": "stream",
          "name": "stdout",
          "text": [
            "[[7 7]\n",
            " [7 7]]\n"
          ]
        }
      ]
    },
    {
      "cell_type": "code",
      "source": [
        "arr_L = np.linspace(0, 5,7)\n",
        "print(arr_L)\n",
        "\n",
        "#observe here dtype('float64')"
      ],
      "metadata": {
        "colab": {
          "base_uri": "https://localhost:8080/"
        },
        "id": "M_QjQ63yUvS4",
        "outputId": "c8a0afa9-7de8-40a4-fb38-28bca710975a"
      },
      "execution_count": null,
      "outputs": [
        {
          "output_type": "stream",
          "name": "stdout",
          "text": [
            "[0.         0.83333333 1.66666667 2.5        3.33333333 4.16666667\n",
            " 5.        ]\n"
          ]
        }
      ]
    },
    {
      "cell_type": "code",
      "source": [
        "arr_a=np.arange(1, 10,1)\n",
        "print(arr_a)\n",
        "\n",
        "#here dtype('int32')"
      ],
      "metadata": {
        "colab": {
          "base_uri": "https://localhost:8080/"
        },
        "id": "PKBUtOkLUyAI",
        "outputId": "f3cc6b40-1cd2-4a67-a826-b1e90e238ea0"
      },
      "execution_count": null,
      "outputs": [
        {
          "output_type": "stream",
          "name": "stdout",
          "text": [
            "[1 2 3 4 5 6 7 8 9]\n"
          ]
        }
      ]
    },
    {
      "cell_type": "code",
      "source": [
        "arr_r = np.random.random((2,2))  \n",
        "print(arr_r)\n"
      ],
      "metadata": {
        "id": "83yG_zHuU2Pl",
        "colab": {
          "base_uri": "https://localhost:8080/"
        },
        "outputId": "bbc877ce-6797-494d-ee23-6cbc0f4743b3"
      },
      "execution_count": null,
      "outputs": [
        {
          "output_type": "stream",
          "name": "stdout",
          "text": [
            "[[0.66343893 0.12499934]\n",
            " [0.83220239 0.25035245]]\n"
          ]
        }
      ]
    },
    {
      "cell_type": "code",
      "source": [
        "arr_1= np.random.randint(10,100,7)  \n",
        "print(arr_1)\n"
      ],
      "metadata": {
        "id": "jg5p2goeU5do",
        "colab": {
          "base_uri": "https://localhost:8080/"
        },
        "outputId": "133c047a-4040-44a1-860f-c00e291423b5"
      },
      "execution_count": null,
      "outputs": [
        {
          "output_type": "stream",
          "name": "stdout",
          "text": [
            "[96 84 15 34 42 62 99]\n"
          ]
        }
      ]
    },
    {
      "cell_type": "code",
      "source": [
        "arr_n= np.random.randn(10)  \n",
        "print(arr_n) \n"
      ],
      "metadata": {
        "id": "e5UNMPQRU8j2",
        "colab": {
          "base_uri": "https://localhost:8080/"
        },
        "outputId": "0d7bf1e6-b879-4472-a8fb-4c4d14a7ea06"
      },
      "execution_count": null,
      "outputs": [
        {
          "output_type": "stream",
          "name": "stdout",
          "text": [
            "[ 1.30490985  0.14546359  0.20730355 -0.78106241  0.38868853  0.57332785\n",
            " -1.65516387 -0.58913772 -0.85193136 -0.29485583]\n"
          ]
        }
      ]
    },
    {
      "cell_type": "code",
      "source": [
        "#converting list to ndarray \n",
        "import numpy as np\n",
        "x = [1,2,3] \n",
        "a = np.asarray(x) \n",
        "print (a)\n",
        "\n",
        "# ndarray from tuple \n",
        "x_1 = (1,2,3) \n",
        "a_1 = np.asarray(x_1) \n",
        "print (a_1)\n",
        "\n",
        "# ndarray from list of tuples \n",
        "import numpy as np\n",
        "x_2 = [(1,2,3),(4,5)] \n",
        "a_2 = np.asarray(x_2) \n",
        "print (a_2)\n"
      ],
      "metadata": {
        "id": "l72ezCOxVCEp",
        "colab": {
          "base_uri": "https://localhost:8080/"
        },
        "outputId": "06ac5ab5-1148-4bd0-b4a0-22d17d02e9a7"
      },
      "execution_count": null,
      "outputs": [
        {
          "output_type": "stream",
          "name": "stdout",
          "text": [
            "[1 2 3]\n",
            "[1 2 3]\n",
            "[(1, 2, 3) (4, 5)]\n"
          ]
        },
        {
          "output_type": "stream",
          "name": "stderr",
          "text": [
            "<ipython-input-22-4ce0e3aa840c>:15: VisibleDeprecationWarning: Creating an ndarray from ragged nested sequences (which is a list-or-tuple of lists-or-tuples-or ndarrays with different lengths or shapes) is deprecated. If you meant to do this, you must specify 'dtype=object' when creating the ndarray.\n",
            "  a_2 = np.asarray(x_2)\n"
          ]
        }
      ]
    },
    {
      "cell_type": "code",
      "source": [
        "import numpy as np \n",
        "arr = np.array([[1,2,3],[4,5,6]]) \n",
        "print (arr.shape)\n",
        "\n",
        "#resizing the above array\n",
        "a = np.array([[1,2,3],[4,5,6]]) \n",
        "a.shape = (3,2) \n",
        "print (a)\n",
        "\n",
        "\n",
        "a = np.array([[1,2,3],[4,5,6]]) \n",
        "b = a.reshape(3,2) \n",
        "print (b)\n"
      ],
      "metadata": {
        "id": "H8Bf_iEmVH02",
        "colab": {
          "base_uri": "https://localhost:8080/"
        },
        "outputId": "81bc85b2-35aa-4d6c-e2ae-29c793887f42"
      },
      "execution_count": null,
      "outputs": [
        {
          "output_type": "stream",
          "name": "stdout",
          "text": [
            "(2, 3)\n",
            "[[1 2]\n",
            " [3 4]\n",
            " [5 6]]\n",
            "[[1 2]\n",
            " [3 4]\n",
            " [5 6]]\n"
          ]
        }
      ]
    },
    {
      "cell_type": "code",
      "source": [
        "import numpy as np \n",
        "x = np.array([[3,2,1],[4,6,1]]) \n",
        "print(x.size)\n"
      ],
      "metadata": {
        "id": "bq3wL231VMv1",
        "colab": {
          "base_uri": "https://localhost:8080/"
        },
        "outputId": "92303129-e514-4336-f626-16f359df5dea"
      },
      "execution_count": null,
      "outputs": [
        {
          "output_type": "stream",
          "name": "stdout",
          "text": [
            "6\n"
          ]
        }
      ]
    },
    {
      "cell_type": "code",
      "source": [
        "import numpy as np \n",
        "a = np.array([[1,2,3],[4,5,6]]) \n",
        "a.itemsize\n"
      ],
      "metadata": {
        "id": "bUKwIk4wVRJv",
        "colab": {
          "base_uri": "https://localhost:8080/"
        },
        "outputId": "a606b0b8-2123-49b2-a851-3cdd833ce622"
      },
      "execution_count": null,
      "outputs": [
        {
          "output_type": "execute_result",
          "data": {
            "text/plain": [
              "8"
            ]
          },
          "metadata": {},
          "execution_count": 28
        }
      ]
    },
    {
      "cell_type": "code",
      "source": [
        "import numpy as np \n",
        "a = np.array([[1,2,3],[4,5,6]]) \n",
        "a.ndim\n"
      ],
      "metadata": {
        "id": "JaFRmgMAVVXP",
        "colab": {
          "base_uri": "https://localhost:8080/"
        },
        "outputId": "5ecfb037-4430-4860-9f34-ff65c8062822"
      },
      "execution_count": null,
      "outputs": [
        {
          "output_type": "execute_result",
          "data": {
            "text/plain": [
              "2"
            ]
          },
          "metadata": {},
          "execution_count": 29
        }
      ]
    },
    {
      "cell_type": "code",
      "source": [
        "type(arr)"
      ],
      "metadata": {
        "id": "D5nlss4WVVjR",
        "colab": {
          "base_uri": "https://localhost:8080/"
        },
        "outputId": "ace33baf-21ed-4577-fcdc-3011700c5bcd"
      },
      "execution_count": null,
      "outputs": [
        {
          "output_type": "execute_result",
          "data": {
            "text/plain": [
              "numpy.ndarray"
            ]
          },
          "metadata": {},
          "execution_count": 30
        }
      ]
    },
    {
      "cell_type": "code",
      "source": [
        "#for example -\n",
        "import numpy as np \n",
        "arr = np.array([[1,2,3],[4,5,6]]) \n",
        "print (arr)\n",
        "\n",
        "type(arr)\n"
      ],
      "metadata": {
        "id": "8Va91W9XVbqw",
        "colab": {
          "base_uri": "https://localhost:8080/"
        },
        "outputId": "3189335f-b5dc-4dd7-e134-a4f60ea5ebb1"
      },
      "execution_count": null,
      "outputs": [
        {
          "output_type": "stream",
          "name": "stdout",
          "text": [
            "[[1 2 3]\n",
            " [4 5 6]]\n"
          ]
        },
        {
          "output_type": "execute_result",
          "data": {
            "text/plain": [
              "numpy.ndarray"
            ]
          },
          "metadata": {},
          "execution_count": 32
        }
      ]
    },
    {
      "cell_type": "code",
      "source": [
        "#for example -\n",
        "print(arr.dtype)\n"
      ],
      "metadata": {
        "id": "aN4vcId_VgAY",
        "colab": {
          "base_uri": "https://localhost:8080/"
        },
        "outputId": "5de2da2c-6ab0-4bae-9f05-d542f9018e87"
      },
      "execution_count": null,
      "outputs": [
        {
          "output_type": "stream",
          "name": "stdout",
          "text": [
            "int64\n"
          ]
        }
      ]
    },
    {
      "cell_type": "code",
      "source": [
        "arr_r = np.random.random((2,2))  \n",
        "print(arr_r)\n"
      ],
      "metadata": {
        "id": "Wun4F9bFuT02",
        "colab": {
          "base_uri": "https://localhost:8080/"
        },
        "outputId": "28d11374-fc71-4a7d-9cd5-485cc7221cd3"
      },
      "execution_count": null,
      "outputs": [
        {
          "output_type": "stream",
          "name": "stdout",
          "text": [
            "[[0.66770554 0.33374553]\n",
            " [0.35377296 0.12230901]]\n"
          ]
        }
      ]
    },
    {
      "cell_type": "code",
      "source": [
        "arr_1= np.random.randint(10,100,7)  \n",
        "print(arr_1)\n"
      ],
      "metadata": {
        "id": "nayDSNdluspW",
        "colab": {
          "base_uri": "https://localhost:8080/"
        },
        "outputId": "2c76833c-c73a-4334-fb28-9a7774e7cb63"
      },
      "execution_count": null,
      "outputs": [
        {
          "output_type": "stream",
          "name": "stdout",
          "text": [
            "[53 74 33 54 38 96 60]\n"
          ]
        }
      ]
    },
    {
      "cell_type": "code",
      "source": [
        "arr_n= np.random.randn(10)  \n",
        "print(arr_n) \n"
      ],
      "metadata": {
        "id": "S3A6GXhDu1dd",
        "colab": {
          "base_uri": "https://localhost:8080/"
        },
        "outputId": "70fa4b50-f510-4dee-9948-49ace34f4adb"
      },
      "execution_count": null,
      "outputs": [
        {
          "output_type": "stream",
          "name": "stdout",
          "text": [
            "[ 0.12758268 -1.3230098   1.10380378  0.7169807  -0.41399837  0.25746929\n",
            " -0.48579693 -0.13755668  1.51497956  0.50004031]\n"
          ]
        }
      ]
    },
    {
      "cell_type": "code",
      "source": [
        "#converting list to ndarray \n",
        "import numpy as np\n",
        "x = [1,2,3] \n",
        "a = np.asarray(x) \n",
        "print (a)\n",
        "\n",
        "# ndarray from tuple \n",
        "x_1 = (1,2,3) \n",
        "a_1 = np.asarray(x_1) \n",
        "print (a_1)\n",
        "\n",
        "# ndarray from list of tuples \n",
        "import numpy as np\n",
        "x_2 = [(1,2,3),(4,5)] \n",
        "a_2 = np.asarray(x_2) \n",
        "print (a_2)\n"
      ],
      "metadata": {
        "id": "uE4En3Bou69Z",
        "colab": {
          "base_uri": "https://localhost:8080/"
        },
        "outputId": "0d6c80ba-3f90-4111-c3cf-1f6e486f6b16"
      },
      "execution_count": null,
      "outputs": [
        {
          "output_type": "stream",
          "name": "stdout",
          "text": [
            "[1 2 3]\n",
            "[1 2 3]\n",
            "[(1, 2, 3) (4, 5)]\n"
          ]
        },
        {
          "output_type": "stream",
          "name": "stderr",
          "text": [
            "<ipython-input-38-4ce0e3aa840c>:15: VisibleDeprecationWarning: Creating an ndarray from ragged nested sequences (which is a list-or-tuple of lists-or-tuples-or ndarrays with different lengths or shapes) is deprecated. If you meant to do this, you must specify 'dtype=object' when creating the ndarray.\n",
            "  a_2 = np.asarray(x_2)\n"
          ]
        }
      ]
    },
    {
      "cell_type": "code",
      "source": [
        "import numpy as np \n",
        "arr = np.array([[1,2,3],[4,5,6]]) \n",
        "print (arr.shape)\n",
        "\n",
        "#resizing the above array\n",
        "a = np.array([[1,2,3],[4,5,6]]) \n",
        "a.shape = (3,2) \n",
        "print (a)\n",
        "\n",
        "a = np.array([[1,2,3],[4,5,6]]) \n",
        "b = a.reshape(3,2) \n"
      ],
      "metadata": {
        "id": "yw-cR9shu9HY",
        "colab": {
          "base_uri": "https://localhost:8080/"
        },
        "outputId": "8b30e9c9-7a3d-4bf7-a5c0-13cd5057c9ae"
      },
      "execution_count": null,
      "outputs": [
        {
          "output_type": "stream",
          "name": "stdout",
          "text": [
            "(2, 3)\n",
            "[[1 2]\n",
            " [3 4]\n",
            " [5 6]]\n"
          ]
        }
      ]
    },
    {
      "cell_type": "code",
      "source": [
        "import numpy as np \n",
        "x = np.array([[3,2,1],[4,6,1]]) \n",
        "print(x.size)\n"
      ],
      "metadata": {
        "id": "elRKvJbPvD5e",
        "colab": {
          "base_uri": "https://localhost:8080/"
        },
        "outputId": "148cbd32-77f3-405b-ed16-324ec00bed6f"
      },
      "execution_count": null,
      "outputs": [
        {
          "output_type": "stream",
          "name": "stdout",
          "text": [
            "6\n"
          ]
        }
      ]
    },
    {
      "cell_type": "code",
      "source": [
        "import numpy as np \n",
        "a = np.array([[1,2,3],[4,5,6]]) \n",
        "a.itemsize\n"
      ],
      "metadata": {
        "id": "fjGlBlkOvNte",
        "colab": {
          "base_uri": "https://localhost:8080/"
        },
        "outputId": "a6031e2a-a603-47cf-f9f2-d25ed7bbb025"
      },
      "execution_count": null,
      "outputs": [
        {
          "output_type": "execute_result",
          "data": {
            "text/plain": [
              "8"
            ]
          },
          "metadata": {},
          "execution_count": 40
        }
      ]
    },
    {
      "cell_type": "code",
      "source": [
        "import numpy as np \n",
        "a = np.array([[1,2,3],[4,5,6]]) \n",
        "a.ndim\n"
      ],
      "metadata": {
        "id": "n9Sx-z2ovPfC",
        "colab": {
          "base_uri": "https://localhost:8080/"
        },
        "outputId": "3e1704d6-8e29-48f1-d010-c14e801d792a"
      },
      "execution_count": null,
      "outputs": [
        {
          "output_type": "execute_result",
          "data": {
            "text/plain": [
              "2"
            ]
          },
          "metadata": {},
          "execution_count": 42
        }
      ]
    },
    {
      "cell_type": "code",
      "source": [
        "#for example -\n",
        "import numpy as np \n",
        "arr = np.array([[1,2,3],[4,5,6]]) \n",
        "print (arr)\n",
        "\n",
        "type(arr)\n"
      ],
      "metadata": {
        "id": "VLHyqOvjvPmg",
        "colab": {
          "base_uri": "https://localhost:8080/"
        },
        "outputId": "93476325-7705-4fe6-b89b-f2750b403578"
      },
      "execution_count": null,
      "outputs": [
        {
          "output_type": "stream",
          "name": "stdout",
          "text": [
            "[[1 2 3]\n",
            " [4 5 6]]\n"
          ]
        },
        {
          "output_type": "execute_result",
          "data": {
            "text/plain": [
              "numpy.ndarray"
            ]
          },
          "metadata": {},
          "execution_count": 43
        }
      ]
    },
    {
      "cell_type": "code",
      "source": [
        "#for example -\n",
        "print(arr.dtype)\n"
      ],
      "metadata": {
        "id": "CmHMNRMuvXX0",
        "colab": {
          "base_uri": "https://localhost:8080/"
        },
        "outputId": "9e063f08-217b-47d6-a3e8-bae09988ebe5"
      },
      "execution_count": null,
      "outputs": [
        {
          "output_type": "stream",
          "name": "stdout",
          "text": [
            "int64\n"
          ]
        }
      ]
    },
    {
      "cell_type": "code",
      "source": [
        "import numpy as np \n",
        "a = np.array([[1,2,3],[4,5,6]]) \n",
        "a.nbytes\n"
      ],
      "metadata": {
        "id": "vmZFIY1SvXgY",
        "colab": {
          "base_uri": "https://localhost:8080/"
        },
        "outputId": "98db1a40-8161-4830-d499-b83bd3324d76"
      },
      "execution_count": null,
      "outputs": [
        {
          "output_type": "execute_result",
          "data": {
            "text/plain": [
              "48"
            ]
          },
          "metadata": {},
          "execution_count": 45
        }
      ]
    },
    {
      "cell_type": "code",
      "source": [
        "import numpy as np\n",
        "arr = np.arange(10)\n",
        "print(arr)\n",
        "\n",
        "#Example-1\n",
        "print(arr[7])\n",
        "\n",
        "print(arr[-3])\n",
        "\n",
        "#Example-2\n",
        "print(arr[0:5])\n",
        "\n",
        "print(arr[0:-4])\n",
        "\n",
        "#Example-3\n",
        "print(arr[-4:-1])\n"
      ],
      "metadata": {
        "id": "E__F6Z1jvXjL",
        "colab": {
          "base_uri": "https://localhost:8080/"
        },
        "outputId": "2b93ee9e-48d7-442d-a6d9-a9185111c748"
      },
      "execution_count": null,
      "outputs": [
        {
          "output_type": "stream",
          "name": "stdout",
          "text": [
            "[0 1 2 3 4 5 6 7 8 9]\n",
            "7\n",
            "7\n",
            "[0 1 2 3 4]\n",
            "[0 1 2 3 4 5]\n",
            "[6 7 8]\n"
          ]
        }
      ]
    },
    {
      "cell_type": "code",
      "source": [
        "import numpy as np \n",
        "arr = np.arange(10)\n",
        "#Slicing single element\n",
        "slice_arr = arr[2] \n",
        "print (slice_arr)\n",
        "\n",
        "#Slicing elements in between indexes\n",
        "print (arr[2:5])\n",
        "\n",
        "print (arr[-8:-5]) #using negative index\n",
        "\n",
        "#using slice(lower,upper,step) function\n",
        "s = slice(2,7,2) \n",
        "print (arr[s])\n",
        "\n",
        "slice_arr = arr[2:7:2] \n",
        "print (slice_arr)\n"
      ],
      "metadata": {
        "id": "PvKCuGuWvjkb",
        "colab": {
          "base_uri": "https://localhost:8080/"
        },
        "outputId": "2f36c252-497a-47dd-8930-af435b09055b"
      },
      "execution_count": null,
      "outputs": [
        {
          "output_type": "stream",
          "name": "stdout",
          "text": [
            "2\n",
            "[2 3 4]\n",
            "[2 3 4]\n",
            "[2 4 6]\n",
            "[2 4 6]\n"
          ]
        }
      ]
    },
    {
      "cell_type": "code",
      "source": [
        "x= np.array([11,12,13,14,15])\n",
        "print(np.take(x, [0, 3,4]))\n"
      ],
      "metadata": {
        "id": "8AACEzxXvrIs",
        "colab": {
          "base_uri": "https://localhost:8080/"
        },
        "outputId": "efcbd89f-9519-4513-aa9a-d3405fd11f67"
      },
      "execution_count": null,
      "outputs": [
        {
          "output_type": "stream",
          "name": "stdout",
          "text": [
            "[11 14 15]\n"
          ]
        }
      ]
    },
    {
      "cell_type": "code",
      "source": [
        "arr=np.arange(10)\n",
        "#Example-1\n",
        "print(arr[:5])\n",
        "\n",
        "#Example-2\n",
        "print(arr[5:])\n",
        "\n",
        "#Example-3\n",
        "print(arr[::2])\n"
      ],
      "metadata": {
        "id": "PqMmXHagvrL3",
        "colab": {
          "base_uri": "https://localhost:8080/"
        },
        "outputId": "80c08fd8-897a-4787-ee06-0f5be6e78be9"
      },
      "execution_count": null,
      "outputs": [
        {
          "output_type": "stream",
          "name": "stdout",
          "text": [
            "[0 1 2 3 4]\n",
            "[5 6 7 8 9]\n",
            "[0 2 4 6 8]\n"
          ]
        }
      ]
    },
    {
      "cell_type": "code",
      "source": [
        "import numpy as np \n",
        "arr = np.array([[1,2,3],[3,4,5],[4,5,6]])\n",
        "print (arr)\n",
        "\n",
        "#Slicing first row\n",
        "print (arr[0:1])\n",
        "\n",
        "#slicing last 2 rows\n",
        "print (arr[1:])\n",
        "\n",
        "#slicing three rows and first column\n",
        "print (arr[0:3,0:1])\n",
        "\n",
        "#slicing 4 from above array\n",
        "print (arr[1:2,1:2])\n"
      ],
      "metadata": {
        "id": "MIWiiWjev1Tm",
        "colab": {
          "base_uri": "https://localhost:8080/"
        },
        "outputId": "04660737-d741-43a3-e276-97bb9d9d0ad0"
      },
      "execution_count": null,
      "outputs": [
        {
          "output_type": "stream",
          "name": "stdout",
          "text": [
            "[[1 2 3]\n",
            " [3 4 5]\n",
            " [4 5 6]]\n",
            "[[1 2 3]]\n",
            "[[3 4 5]\n",
            " [4 5 6]]\n",
            "[[1]\n",
            " [3]\n",
            " [4]]\n",
            "[[4]]\n"
          ]
        }
      ]
    },
    {
      "cell_type": "code",
      "source": [
        "import numpy as np\n",
        "arr_1 = np.array([1, 2, 3])\n",
        "arr_2 = np.array([2, 3, 4])\n",
        "arr_stack=np.stack((arr_1,arr_2),axis=0)\n",
        "print(arr_stack)\n",
        "print(arr_stack.shape)\n",
        "\n",
        "arr_stack=np.stack((arr_1,arr_2),axis=1)\n",
        "print(arr_stack)\n",
        "print(arr_stack.shape)\n"
      ],
      "metadata": {
        "id": "nwz9mxOov-CD",
        "colab": {
          "base_uri": "https://localhost:8080/"
        },
        "outputId": "59c2f0d8-eefb-46d7-f7cf-527bebfb3131"
      },
      "execution_count": null,
      "outputs": [
        {
          "output_type": "stream",
          "name": "stdout",
          "text": [
            "[[1 2 3]\n",
            " [2 3 4]]\n",
            "(2, 3)\n",
            "[[1 2]\n",
            " [2 3]\n",
            " [3 4]]\n",
            "(3, 2)\n"
          ]
        }
      ]
    },
    {
      "cell_type": "code",
      "source": [
        "# Generate random arrays\n",
        "arr_1 = np.random.randint(10, size=(2, 2))\n",
        "print(\" arr_1\\n\", arr_1)\n",
        "arr_2 = np.random.randint(10, size=(2, 2))\n",
        "print(\" arr_2\\n\", arr_2)\n",
        "\n",
        "# Stack arr_2 under arr_1\n",
        "a=np.vstack((arr_1, arr_2))\n",
        "print(a)\n",
        "\n",
        "# Stacking  horizontally\n",
        "b=np.hstack((arr_1, arr_2))\n",
        "print(b)\n",
        "\n"
      ],
      "metadata": {
        "id": "nSpn12SHv-lK",
        "colab": {
          "base_uri": "https://localhost:8080/"
        },
        "outputId": "52a8a611-de70-433f-9441-db39e7ea8fb4"
      },
      "execution_count": null,
      "outputs": [
        {
          "output_type": "stream",
          "name": "stdout",
          "text": [
            " arr_1\n",
            " [[8 7]\n",
            " [6 9]]\n",
            " arr_2\n",
            " [[7 2]\n",
            " [0 2]]\n",
            "[[8 7]\n",
            " [6 9]\n",
            " [7 2]\n",
            " [0 2]]\n",
            "[[8 7 7 2]\n",
            " [6 9 0 2]]\n"
          ]
        }
      ]
    },
    {
      "cell_type": "code",
      "source": [
        "#continuing above commands\n",
        "#stacking depth wise\n",
        "c=np.dstack((arr_1, arr_2))\n",
        "print(c)\n"
      ],
      "metadata": {
        "id": "iefbD8Csv-qW",
        "colab": {
          "base_uri": "https://localhost:8080/"
        },
        "outputId": "fb275cf0-6144-4d4a-b52e-948891f4551f"
      },
      "execution_count": null,
      "outputs": [
        {
          "output_type": "stream",
          "name": "stdout",
          "text": [
            "[[[8 7]\n",
            "  [7 2]]\n",
            "\n",
            " [[6 0]\n",
            "  [9 2]]]\n"
          ]
        }
      ]
    },
    {
      "cell_type": "code",
      "source": [
        "# row_stack()\n",
        "a=np.row_stack((arr_1, arr_2))\n",
        "print(a)\n",
        "\n",
        "# column_stack()\n",
        "b=np.column_stack((arr_1, arr_2))\n",
        "print(b)\n"
      ],
      "metadata": {
        "id": "ccjWAWoAwQOR",
        "colab": {
          "base_uri": "https://localhost:8080/"
        },
        "outputId": "ce5205cd-16dd-45b6-9e41-85da7b3f604c"
      },
      "execution_count": null,
      "outputs": [
        {
          "output_type": "stream",
          "name": "stdout",
          "text": [
            "[[8 7]\n",
            " [6 9]\n",
            " [7 2]\n",
            " [0 2]]\n",
            "[[8 7 7 2]\n",
            " [6 9 0 2]]\n"
          ]
        }
      ]
    },
    {
      "cell_type": "code",
      "source": [
        "x = np.arange(9.0)\n",
        "np.split(x, 3)\n"
      ],
      "metadata": {
        "id": "S6vQMe07wQV-",
        "colab": {
          "base_uri": "https://localhost:8080/"
        },
        "outputId": "58f158e5-dfc8-46e0-91a1-38ac05c9bc79"
      },
      "execution_count": null,
      "outputs": [
        {
          "output_type": "execute_result",
          "data": {
            "text/plain": [
              "[array([0., 1., 2.]), array([3., 4., 5.]), array([6., 7., 8.])]"
            ]
          },
          "metadata": {},
          "execution_count": 60
        }
      ]
    },
    {
      "cell_type": "code",
      "source": [
        "x = np.arange(8.0)\n",
        "np.array_split(x, 3)\n",
        "\n",
        "x = np.arange(7.0)\n",
        "np.array_split(x, 3)\n",
        "\n",
        "#all splitted arrays are not equal in size"
      ],
      "metadata": {
        "id": "XgUwb4HAwZyy",
        "colab": {
          "base_uri": "https://localhost:8080/"
        },
        "outputId": "42bc3ab8-871c-483f-b2c0-5b355b6ac9a7"
      },
      "execution_count": null,
      "outputs": [
        {
          "output_type": "execute_result",
          "data": {
            "text/plain": [
              "[array([0., 1., 2.]), array([3., 4.]), array([5., 6.])]"
            ]
          },
          "metadata": {},
          "execution_count": 62
        }
      ]
    },
    {
      "cell_type": "code",
      "source": [
        "numpy.hsplit(array,Indices_or_sections,axis)"
      ],
      "metadata": {
        "id": "EDYgciBDwZ2B"
      },
      "execution_count": null,
      "outputs": []
    },
    {
      "cell_type": "code",
      "source": [
        "arr_1 = np.arange(16.0).reshape(4, 4)\n",
        "\n",
        "\n",
        "np.hsplit(arr_1, 2)\n",
        "\n",
        "np.hsplit(arr_1, np.array([3, 6]))\n"
      ],
      "metadata": {
        "id": "SQSKvoh0wZ5O",
        "colab": {
          "base_uri": "https://localhost:8080/"
        },
        "outputId": "f6294ef0-9734-41e2-a95d-2788249f5f53"
      },
      "execution_count": null,
      "outputs": [
        {
          "output_type": "execute_result",
          "data": {
            "text/plain": [
              "[array([[ 0.,  1.,  2.],\n",
              "        [ 4.,  5.,  6.],\n",
              "        [ 8.,  9., 10.],\n",
              "        [12., 13., 14.]]),\n",
              " array([[ 3.],\n",
              "        [ 7.],\n",
              "        [11.],\n",
              "        [15.]]),\n",
              " array([], shape=(4, 0), dtype=float64)]"
            ]
          },
          "metadata": {},
          "execution_count": 64
        }
      ]
    },
    {
      "cell_type": "code",
      "source": [
        "arr_1= np.arange(16.0).reshape(4, 4)\n",
        "\n",
        "np.vsplit(arr_1, 2)\n",
        "\n",
        "np.vsplit(arr_1, np.array([3, 6]))\n"
      ],
      "metadata": {
        "id": "RAnxyAKDwZ_D",
        "colab": {
          "base_uri": "https://localhost:8080/"
        },
        "outputId": "7acc0599-6adb-4d95-886f-2572c10ae002"
      },
      "execution_count": null,
      "outputs": [
        {
          "output_type": "execute_result",
          "data": {
            "text/plain": [
              "[array([[ 0.,  1.,  2.,  3.],\n",
              "        [ 4.,  5.,  6.,  7.],\n",
              "        [ 8.,  9., 10., 11.]]),\n",
              " array([[12., 13., 14., 15.]]),\n",
              " array([], shape=(0, 4), dtype=float64)]"
            ]
          },
          "metadata": {},
          "execution_count": 65
        }
      ]
    },
    {
      "cell_type": "code",
      "source": [
        "import numpy as np\n",
        "arr_3 = np.array([1, 2, 3, 4])\n",
        "arr_4 = np.array([2, 4, 6, 8])\n",
        "# Add values\n",
        "print(arr_3 + arr_4)\n",
        "\n",
        "[ 3,  6,  9, 12]\n",
        "# Subtract\n",
        "print(arr_3 - arr_4)\n",
        "\n",
        "# Multiply\n",
        "print(arr_3 * arr_4)\n",
        "\n",
        "# Divide\n",
        "print(arr_3 / arr_4)\n"
      ],
      "metadata": {
        "id": "SZY6EWlBwaBK",
        "colab": {
          "base_uri": "https://localhost:8080/"
        },
        "outputId": "6d07231e-fa0c-410d-a601-d02652998a2b"
      },
      "execution_count": null,
      "outputs": [
        {
          "output_type": "stream",
          "name": "stdout",
          "text": [
            "[ 3  6  9 12]\n",
            "[-1 -2 -3 -4]\n",
            "[ 2  8 18 32]\n",
            "[0.5 0.5 0.5 0.5]\n"
          ]
        }
      ]
    },
    {
      "cell_type": "code",
      "source": [
        "#Random 2 by 3 digit 2D array between 0 to 100\n",
        "arr_6 =np.random.randint(100, size=(2, 3))\n",
        "print(arr_6)\n",
        "\n",
        "# Sum of values in array\n",
        "a=arr_3.sum()\n",
        "print(a)\n",
        "\n",
        "# Sum columns\n",
        "c=arr_6.sum(axis=0)\n",
        "print(c)\n",
        "\n",
        "# Cumulative sum of rows\n",
        "b=arr_6.cumsum(axis=1)\n",
        "print(b)\n"
      ],
      "metadata": {
        "id": "qTg5fSqtwtNp",
        "colab": {
          "base_uri": "https://localhost:8080/"
        },
        "outputId": "0a7f30b4-58ff-4fff-c32c-2187117738f9"
      },
      "execution_count": null,
      "outputs": [
        {
          "output_type": "stream",
          "name": "stdout",
          "text": [
            "[[86 16 91]\n",
            " [74 11 18]]\n",
            "10\n",
            "[160  27 109]\n",
            "[[ 86 102 193]\n",
            " [ 74  85 103]]\n"
          ]
        }
      ]
    },
    {
      "cell_type": "code",
      "source": [
        "arr=np.array([[62, 96, 50],\n",
        "       [87, 26, 42]])\n",
        "# Min of each row\n",
        "print(arr.min(axis=1))\n",
        "\n",
        "# Max of each column\n",
        "print(arr.max(axis=0))\n"
      ],
      "metadata": {
        "id": "X-sr_4YUwtXF",
        "colab": {
          "base_uri": "https://localhost:8080/"
        },
        "outputId": "17f845fb-a0b7-4eab-92ac-3ef4b27ad0ff"
      },
      "execution_count": null,
      "outputs": [
        {
          "output_type": "stream",
          "name": "stdout",
          "text": [
            "[50 26]\n",
            "[87 96 50]\n"
          ]
        }
      ]
    },
    {
      "cell_type": "code",
      "source": [
        "print(np.absolute([-1, -2]))\n"
      ],
      "metadata": {
        "id": "0q_-aEFuwtfD",
        "colab": {
          "base_uri": "https://localhost:8080/"
        },
        "outputId": "13d501a1-2b3d-42bc-a980-916287269012"
      },
      "execution_count": null,
      "outputs": [
        {
          "output_type": "stream",
          "name": "stdout",
          "text": [
            "[1 2]\n"
          ]
        }
      ]
    },
    {
      "cell_type": "code",
      "source": [
        "arr_5 = np.array([[1, 2], [3, 4]])\n",
        "arr_6 = np.array([[2, 4], [6, 9]])\n",
        "# Return values in 1st array to powers defined in 2nd array\n",
        "print(np.power(arr_5, arr_6))\n",
        "\n",
        "arr_3 = np.array([1, 2, 3, 4])\n",
        "#Square Root\n",
        "print(np.sqrt(arr_3))\n",
        "\n",
        "#Cube Root\n",
        "print(np.cbrt(arr_3))\n"
      ],
      "metadata": {
        "id": "7Vwzup0wwtyw",
        "colab": {
          "base_uri": "https://localhost:8080/"
        },
        "outputId": "4ccf73d9-5b4c-4211-cd48-528a46b46d8c"
      },
      "execution_count": null,
      "outputs": [
        {
          "output_type": "stream",
          "name": "stdout",
          "text": [
            "[[     1     16]\n",
            " [   729 262144]]\n",
            "[1.         1.41421356 1.73205081 2.        ]\n",
            "[1.         1.25992105 1.44224957 1.58740105]\n"
          ]
        }
      ]
    },
    {
      "cell_type": "code",
      "source": [
        "arr_3 = np.array([1, 2, 3, 4])\n",
        "#Exponential of all elements in array\n",
        "print(np.exp(arr_3))\n"
      ],
      "metadata": {
        "id": "x3AjFGt2w4Er",
        "colab": {
          "base_uri": "https://localhost:8080/"
        },
        "outputId": "7c6aabb6-1a2b-488d-c378-79d48642b683"
      },
      "execution_count": null,
      "outputs": [
        {
          "output_type": "stream",
          "name": "stdout",
          "text": [
            "[ 2.71828183  7.3890561  20.08553692 54.59815003]\n"
          ]
        }
      ]
    },
    {
      "cell_type": "code",
      "source": [
        "print(np.log(arr_3))\n",
        "\n",
        "print(np.log2(arr_3))\n",
        "\n",
        "print(np.log10(arr_3))\n"
      ],
      "metadata": {
        "id": "AxJbGrAHw4I5",
        "colab": {
          "base_uri": "https://localhost:8080/"
        },
        "outputId": "5a4ccaa7-9532-4029-defe-556e746ea9f2"
      },
      "execution_count": null,
      "outputs": [
        {
          "output_type": "stream",
          "name": "stdout",
          "text": [
            "[0.         0.69314718 1.09861229 1.38629436]\n",
            "[0.        1.        1.5849625 2.       ]\n",
            "[0.         0.30103    0.47712125 0.60205999]\n"
          ]
        }
      ]
    },
    {
      "cell_type": "code",
      "source": [
        "print(np.gcd.reduce([9, 12, 15]))\n"
      ],
      "metadata": {
        "id": "rPce9IzKw4LY",
        "colab": {
          "base_uri": "https://localhost:8080/"
        },
        "outputId": "f5717002-8bdc-4945-9b96-814e0b797277"
      },
      "execution_count": null,
      "outputs": [
        {
          "output_type": "stream",
          "name": "stdout",
          "text": [
            "3\n"
          ]
        }
      ]
    },
    {
      "cell_type": "code",
      "source": [
        "print(np.lcm.reduce([9, 12, 15]))\n"
      ],
      "metadata": {
        "id": "faFb3vgFw4OI",
        "colab": {
          "base_uri": "https://localhost:8080/"
        },
        "outputId": "ef1934cd-0c02-4124-fd66-f28f26faba94"
      },
      "execution_count": null,
      "outputs": [
        {
          "output_type": "stream",
          "name": "stdout",
          "text": [
            "180\n"
          ]
        }
      ]
    },
    {
      "cell_type": "code",
      "source": [
        "# Round down\n",
        "print(np.floor([1.2, 2.5]))\n",
        "\n",
        "# Round up\n",
        "print(np.ceil([1.2, 2.5]))\n"
      ],
      "metadata": {
        "id": "aMChbt6bxDRe",
        "colab": {
          "base_uri": "https://localhost:8080/"
        },
        "outputId": "750270f5-992a-4b6e-b93e-b10a3a22f02b"
      },
      "execution_count": null,
      "outputs": [
        {
          "output_type": "stream",
          "name": "stdout",
          "text": [
            "[1. 2.]\n",
            "[2. 3.]\n"
          ]
        }
      ]
    },
    {
      "cell_type": "code",
      "source": [
        "import numpy as np\n",
        "import matplotlib.pyplot as plt\n",
        "# Generate array of 200 values between -pi & pi\n",
        "t_arr = np.linspace(-2*np.pi, 2*np.pi, 200)\n",
        "fig = plt.figure()\n",
        "ax = plt.axes()\n",
        "ax.grid(color='black', linestyle='-', linewidth=2,alpha=0.1)\n",
        "# Plotting Sin(X)\n",
        "plt.plot(t_arr, np.sin(t_arr),color='black') # SIN\n",
        "plt.title(\"sin(x)\")\n",
        "# Display plot\n",
        "plt.show()"
      ],
      "metadata": {
        "id": "H6DNKB8XxDXT",
        "colab": {
          "base_uri": "https://localhost:8080/",
          "height": 452
        },
        "outputId": "8dc3a448-c1e2-4a5a-bd6b-50a06952beb9"
      },
      "execution_count": null,
      "outputs": [
        {
          "output_type": "display_data",
          "data": {
            "text/plain": [
              "<Figure size 640x480 with 1 Axes>"
            ],
            "image/png": "[encoded data removed]"
          },
          "metadata": {}
        }
      ]
    },
    {
      "cell_type": "code",
      "source": [
        "#plotting cos(x)\n",
        "plt.plot(t_arr, np.cos(t_arr),color='darkorange') # COS\n",
        "plt.title(\"cos(x)\")"
      ],
      "metadata": {
        "id": "7pRR8KBxxHWN",
        "colab": {
          "base_uri": "https://localhost:8080/",
          "height": 469
        },
        "outputId": "6217afbe-5a10-46ee-95b9-304507ff4fff"
      },
      "execution_count": null,
      "outputs": [
        {
          "output_type": "execute_result",
          "data": {
            "text/plain": [
              "Text(0.5, 1.0, 'cos(x)')"
            ]
          },
          "metadata": {},
          "execution_count": 78
        },
        {
          "output_type": "display_data",
          "data": {
            "text/plain": [
              "<Figure size 640x480 with 1 Axes>"
            ],
            "image/png": "[encoded data removed]"
          },
          "metadata": {}
        }
      ]
    },
    {
      "cell_type": "code",
      "source": [
        "#plotting tan(x)\n",
        "plt.plot(t_arr, np.tan(t_arr),color='skyblue') # TAN\n",
        "plt.title(\"tan(x)\")"
      ],
      "metadata": {
        "id": "nOL5B2uLxH3a",
        "colab": {
          "base_uri": "https://localhost:8080/",
          "height": 469
        },
        "outputId": "b0243d0f-5ef9-4067-bc82-5c7f31e2b576"
      },
      "execution_count": null,
      "outputs": [
        {
          "output_type": "execute_result",
          "data": {
            "text/plain": [
              "Text(0.5, 1.0, 'tan(x)')"
            ]
          },
          "metadata": {},
          "execution_count": 79
        },
        {
          "output_type": "display_data",
          "data": {
            "text/plain": [
              "<Figure size 640x480 with 1 Axes>"
            ],
            "image/png": "[encoded data removed]"
          },
          "metadata": {}
        }
      ]
    },
    {
      "cell_type": "code",
      "source": [
        "plt.plot(t_arr, np.sin(t_arr),color='black',label='sin(x)') # SIN\n",
        "plt.plot(t_arr, np.cos(t_arr),color='darkorange',label='cos(x)') # COS\n",
        "plt.plot(t_arr, np.tan(t_arr),color='skyblue',label='tan(x)') # TAN\n",
        "plt.legend(loc='best')\n",
        "plt.show()"
      ],
      "metadata": {
        "id": "tRSsQTJ9xL8U",
        "colab": {
          "base_uri": "https://localhost:8080/",
          "height": 430
        },
        "outputId": "ef570f5e-3aa7-466d-ba78-2f15a2cd8068"
      },
      "execution_count": null,
      "outputs": [
        {
          "output_type": "display_data",
          "data": {
            "text/plain": [
              "<Figure size 640x480 with 1 Axes>"
            ],
            "image/png": "[encoded data removed]"
          },
          "metadata": {}
        }
      ]
    },
    {
      "cell_type": "code",
      "source": [
        "# Provides inverse \n",
        "print(np.arcsin(1))\n",
        "print(np.arccos(1))\n",
        "print(np.arctan(0))\n"
      ],
      "metadata": {
        "id": "o6CLyJHmxOdU",
        "colab": {
          "base_uri": "https://localhost:8080/"
        },
        "outputId": "de680da2-d11c-405a-c611-7111de2d7b66"
      },
      "execution_count": null,
      "outputs": [
        {
          "output_type": "stream",
          "name": "stdout",
          "text": [
            "1.5707963267948966\n",
            "0.0\n",
            "0.0\n"
          ]
        }
      ]
    },
    {
      "cell_type": "code",
      "source": [
        "# Radians to degrees\n",
        "print(np.rad2deg(np.pi))\n",
        "\n",
        "# Degrees to radians\n",
        "print(np.deg2rad(180))\n"
      ],
      "metadata": {
        "id": "APeCvpnExOjA",
        "colab": {
          "base_uri": "https://localhost:8080/"
        },
        "outputId": "fb28b9c5-7a63-4234-f9fd-d3a76b6788a6"
      },
      "execution_count": null,
      "outputs": [
        {
          "output_type": "stream",
          "name": "stdout",
          "text": [
            "180.0\n",
            "3.141592653589793\n"
          ]
        }
      ]
    },
    {
      "cell_type": "code",
      "source": [
        "arr_1 = np.arange(1, 6)\n",
        "print(arr_1)\n",
        "\n",
        "#mean\n",
        "print(np.mean(arr_1))\n",
        "\n",
        "#median\n",
        "print(np.median(arr_1))\n",
        "\n",
        "#average\n",
        "print(np.average(arr_1))\n",
        "\n",
        "# Standard Deviation\n",
        "print(np.std([4, 6, 3, 5, 2])) \n",
        "\n",
        "#variance\n",
        "print(np.var([4, 6, 3, 5, 2]))\n"
      ],
      "metadata": {
        "id": "2ppIPWrUxSuN",
        "colab": {
          "base_uri": "https://localhost:8080/"
        },
        "outputId": "6e7f9898-61aa-4903-d215-003adc9387c6"
      },
      "execution_count": null,
      "outputs": [
        {
          "output_type": "stream",
          "name": "stdout",
          "text": [
            "[1 2 3 4 5]\n",
            "3.0\n",
            "3.0\n",
            "3.0\n",
            "1.4142135623730951\n",
            "2.0\n"
          ]
        }
      ]
    },
    {
      "cell_type": "code",
      "source": [
        "import numpy as np\n",
        "import matplotlib.pyplot as plt\n",
        "from mpl_toolkits.mplot3d import Axes3D\n",
        "v3=[ 4, 6 , 7 ]\n",
        "v2= [ 4 ,7 ,9 ]\n",
        "v3t = np.transpose(v3)\n",
        "print(v3t)\n"
      ],
      "metadata": {
        "id": "Z-Ke0hn-xXLH",
        "colab": {
          "base_uri": "https://localhost:8080/"
        },
        "outputId": "95bc4baf-6fa0-437b-babe-0d9f0d74b6fa"
      },
      "execution_count": null,
      "outputs": [
        {
          "output_type": "stream",
          "name": "stdout",
          "text": [
            "[4 6 7]\n"
          ]
        }
      ]
    },
    {
      "cell_type": "code",
      "source": [
        "#taking 2 vectors of same dimention\n",
        "v1 = np.array([ 2 ,6 ])\n",
        "v2 = np.array([ 5 ,7 ])\n",
        "v3 = v1+v2 #Addition\n",
        "print(v3)\n",
        "\n",
        "v4 = v2-v1 #Subtraction\n",
        "print(v4)\n"
      ],
      "metadata": {
        "id": "IXtmcPxDxY-p",
        "colab": {
          "base_uri": "https://localhost:8080/"
        },
        "outputId": "431fba1b-d337-4765-99c9-b2762db681dc"
      },
      "execution_count": null,
      "outputs": [
        {
          "output_type": "stream",
          "name": "stdout",
          "text": [
            "[ 7 13]\n",
            "[3 1]\n"
          ]
        }
      ]
    },
    {
      "cell_type": "code",
      "source": [
        "# VECTOR SCALAR PRODUCT\n",
        "v1 = np.array([ 9 ,2 ]) \n",
        "c= 0.7\n",
        "v2= c*v1\n",
        "print(v2)\n",
        "\n",
        "# dot product \n",
        "v1 = np.array([ 4 ,3 ,9 ])\n",
        "v2 = np.array([ 1 ,2 ,3 ])\n",
        "#method 1\n",
        "D_P1 = sum( np.multiply(v1,v2)  )\n",
        "print(D_P1)\n",
        "\n",
        "#method 2\n",
        "D_P2 = np.dot( v1,v2 )\n",
        "print(D_P2)\n",
        "\n",
        "#method 3\n",
        "D_P3= np.matmul( v1,v2 )\n",
        "print(D_P3)\n"
      ],
      "metadata": {
        "id": "G-hqoGByxbeq",
        "colab": {
          "base_uri": "https://localhost:8080/"
        },
        "outputId": "d8b4a9de-7b1b-4001-cc66-b6b7ba472729"
      },
      "execution_count": null,
      "outputs": [
        {
          "output_type": "stream",
          "name": "stdout",
          "text": [
            "[6.3 1.4]\n",
            "37\n",
            "37\n",
            "37\n"
          ]
        }
      ]
    },
    {
      "cell_type": "code",
      "source": [
        "# create vectors\n",
        "w1 = [ 1, 3, 5 ]\n",
        "w2 = [ 3, 4, 2 ]\n",
        "w3 = np.multiply(w1,w2)\n",
        "print(w3)\n"
      ],
      "metadata": {
        "id": "7k5YqO_vxdFv",
        "colab": {
          "base_uri": "https://localhost:8080/"
        },
        "outputId": "ed99925b-47bd-487b-e2fe-582a19497854"
      },
      "execution_count": null,
      "outputs": [
        {
          "output_type": "stream",
          "name": "stdout",
          "text": [
            "[ 3 12 10]\n"
          ]
        }
      ]
    },
    {
      "cell_type": "code",
      "source": [
        "v1 = np.array([3,9,9])\n",
        "v2 = np.array([2,3,4])\n",
        "v3 = np.cross (v1,v2)\n",
        "print (v3)\n"
      ],
      "metadata": {
        "id": "kdTQgDmCxej8",
        "colab": {
          "base_uri": "https://localhost:8080/"
        },
        "outputId": "eca500a0-0777-4d8d-a4bf-788bf3840db9"
      },
      "execution_count": null,
      "outputs": [
        {
          "output_type": "stream",
          "name": "stdout",
          "text": [
            "[ 9  6 -9]\n"
          ]
        }
      ]
    },
    {
      "cell_type": "code",
      "source": [
        "#  vector \n",
        "v1 = np.array([ 3,4,6 ])\n",
        "# example method 1\n",
        "vl = np.sqrt( sum( np.multiply(v1,v1)) )\n",
        "\n",
        "# method 2: take the norm\n",
        "vl = np.linalg.norm(v1)\n",
        "print(vl)"
      ],
      "metadata": {
        "id": "Ingt7JdmxgLC",
        "colab": {
          "base_uri": "https://localhost:8080/"
        },
        "outputId": "886342b8-d119-4349-c033-e6fb5ce9cdc7"
      },
      "execution_count": null,
      "outputs": [
        {
          "output_type": "stream",
          "name": "stdout",
          "text": [
            "7.810249675906654\n"
          ]
        }
      ]
    },
    {
      "cell_type": "markdown",
      "source": [
        "https://medium.com/mlpoint/numpy-for-machine-learning-211a3e58b574"
      ],
      "metadata": {
        "id": "u5EL1LTIxiuN"
      }
    }
  ]
}